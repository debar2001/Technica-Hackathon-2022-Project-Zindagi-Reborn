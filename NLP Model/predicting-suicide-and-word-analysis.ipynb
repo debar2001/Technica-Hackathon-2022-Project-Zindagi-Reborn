{
 "cells": [
  {
   "cell_type": "code",
   "execution_count": 1,
   "metadata": {
    "execution": {
     "iopub.execute_input": "2022-05-20T18:20:37.876428Z",
     "iopub.status.busy": "2022-05-20T18:20:37.875993Z",
     "iopub.status.idle": "2022-05-20T18:20:38.983342Z",
     "shell.execute_reply": "2022-05-20T18:20:38.982846Z",
     "shell.execute_reply.started": "2022-03-07T11:15:46.044193Z"
    },
    "papermill": {
     "duration": 1.171823,
     "end_time": "2022-05-20T18:20:38.983476",
     "exception": false,
     "start_time": "2022-05-20T18:20:37.811653",
     "status": "completed"
    },
    "tags": []
   },
   "outputs": [],
   "source": [
    "import numpy as np \n",
    "import pandas as pd\n",
    "import matplotlib.pyplot as plt\n",
    "import seaborn as sns\n",
    "\n",
    "import warnings"
   ]
  },
  {
   "cell_type": "code",
   "execution_count": 2,
   "metadata": {
    "execution": {
     "iopub.execute_input": "2022-05-20T18:20:39.096396Z",
     "iopub.status.busy": "2022-05-20T18:20:39.095888Z",
     "iopub.status.idle": "2022-05-20T18:20:43.553234Z",
     "shell.execute_reply": "2022-05-20T18:20:43.552706Z",
     "shell.execute_reply.started": "2022-03-07T11:15:46.575672Z"
    },
    "papermill": {
     "duration": 4.514839,
     "end_time": "2022-05-20T18:20:43.553343",
     "exception": false,
     "start_time": "2022-05-20T18:20:39.038504",
     "status": "completed"
    },
    "tags": []
   },
   "outputs": [
    {
     "data": {
      "text/html": [
       "<div>\n",
       "<style scoped>\n",
       "    .dataframe tbody tr th:only-of-type {\n",
       "        vertical-align: middle;\n",
       "    }\n",
       "\n",
       "    .dataframe tbody tr th {\n",
       "        vertical-align: top;\n",
       "    }\n",
       "\n",
       "    .dataframe thead th {\n",
       "        text-align: right;\n",
       "    }\n",
       "</style>\n",
       "<table border=\"1\" class=\"dataframe\">\n",
       "  <thead>\n",
       "    <tr style=\"text-align: right;\">\n",
       "      <th></th>\n",
       "      <th>Unnamed: 0</th>\n",
       "      <th>text</th>\n",
       "      <th>class</th>\n",
       "    </tr>\n",
       "  </thead>\n",
       "  <tbody>\n",
       "    <tr>\n",
       "      <th>0</th>\n",
       "      <td>2</td>\n",
       "      <td>Ex Wife Threatening SuicideRecently I left my ...</td>\n",
       "      <td>suicide</td>\n",
       "    </tr>\n",
       "    <tr>\n",
       "      <th>1</th>\n",
       "      <td>3</td>\n",
       "      <td>Am I weird I don't get affected by compliments...</td>\n",
       "      <td>non-suicide</td>\n",
       "    </tr>\n",
       "    <tr>\n",
       "      <th>2</th>\n",
       "      <td>4</td>\n",
       "      <td>Finally 2020 is almost over... So I can never ...</td>\n",
       "      <td>non-suicide</td>\n",
       "    </tr>\n",
       "    <tr>\n",
       "      <th>3</th>\n",
       "      <td>8</td>\n",
       "      <td>i need helpjust help me im crying so hard</td>\n",
       "      <td>suicide</td>\n",
       "    </tr>\n",
       "    <tr>\n",
       "      <th>4</th>\n",
       "      <td>9</td>\n",
       "      <td>I’m so lostHello, my name is Adam (16) and I’v...</td>\n",
       "      <td>suicide</td>\n",
       "    </tr>\n",
       "  </tbody>\n",
       "</table>\n",
       "</div>"
      ],
      "text/plain": [
       "   Unnamed: 0                                               text        class\n",
       "0           2  Ex Wife Threatening SuicideRecently I left my ...      suicide\n",
       "1           3  Am I weird I don't get affected by compliments...  non-suicide\n",
       "2           4  Finally 2020 is almost over... So I can never ...  non-suicide\n",
       "3           8          i need helpjust help me im crying so hard      suicide\n",
       "4           9  I’m so lostHello, my name is Adam (16) and I’v...      suicide"
      ]
     },
     "execution_count": 2,
     "metadata": {},
     "output_type": "execute_result"
    }
   ],
   "source": [
    "Suicide = pd.read_csv('Suicide_Detection.csv')\n",
    "Suicide.head()"
   ]
  },
  {
   "cell_type": "code",
   "execution_count": 3,
   "metadata": {
    "execution": {
     "iopub.execute_input": "2022-05-20T18:20:43.677424Z",
     "iopub.status.busy": "2022-05-20T18:20:43.675620Z",
     "iopub.status.idle": "2022-05-20T18:20:43.776469Z",
     "shell.execute_reply": "2022-05-20T18:20:43.776052Z",
     "shell.execute_reply.started": "2022-03-07T11:15:49.346217Z"
    },
    "papermill": {
     "duration": 0.16605,
     "end_time": "2022-05-20T18:20:43.776575",
     "exception": false,
     "start_time": "2022-05-20T18:20:43.610525",
     "status": "completed"
    },
    "tags": []
   },
   "outputs": [
    {
     "name": "stdout",
     "output_type": "stream",
     "text": [
      "<class 'pandas.core.frame.DataFrame'>\n",
      "RangeIndex: 232074 entries, 0 to 232073\n",
      "Data columns (total 2 columns):\n",
      " #   Column  Non-Null Count   Dtype \n",
      "---  ------  --------------   ----- \n",
      " 0   text    232074 non-null  object\n",
      " 1   class   232074 non-null  object\n",
      "dtypes: object(2)\n",
      "memory usage: 3.5+ MB\n"
     ]
    }
   ],
   "source": [
    "Suicide = Suicide.drop('Unnamed: 0',axis=1)\n",
    "Suicide.info()"
   ]
  },
  {
   "cell_type": "code",
   "execution_count": 4,
   "metadata": {
    "execution": {
     "iopub.execute_input": "2022-05-20T18:20:43.903678Z",
     "iopub.status.busy": "2022-05-20T18:20:43.902951Z",
     "iopub.status.idle": "2022-05-20T18:20:43.907370Z",
     "shell.execute_reply": "2022-05-20T18:20:43.906864Z",
     "shell.execute_reply.started": "2022-03-07T11:15:49.434817Z"
    },
    "papermill": {
     "duration": 0.070323,
     "end_time": "2022-05-20T18:20:43.907486",
     "exception": false,
     "start_time": "2022-05-20T18:20:43.837163",
     "status": "completed"
    },
    "tags": []
   },
   "outputs": [
    {
     "data": {
      "text/plain": [
       "\"Am I weird I don't get affected by compliments if it's coming from someone I know irl but I feel really good when internet strangers do it\""
      ]
     },
     "execution_count": 4,
     "metadata": {},
     "output_type": "execute_result"
    }
   ],
   "source": [
    "Suicide['text'][1]"
   ]
  },
  {
   "cell_type": "code",
   "execution_count": 5,
   "metadata": {
    "execution": {
     "iopub.execute_input": "2022-05-20T18:20:44.072817Z",
     "iopub.status.busy": "2022-05-20T18:20:44.057156Z",
     "iopub.status.idle": "2022-05-20T18:20:44.477223Z",
     "shell.execute_reply": "2022-05-20T18:20:44.477709Z",
     "shell.execute_reply.started": "2022-03-07T11:15:49.443795Z"
    },
    "papermill": {
     "duration": 0.509188,
     "end_time": "2022-05-20T18:20:44.477873",
     "exception": false,
     "start_time": "2022-05-20T18:20:43.968685",
     "status": "completed"
    },
    "tags": []
   },
   "outputs": [
    {
     "data": {
      "image/png": "[encoded data removed]",
      "text/plain": [
       "<Figure size 432x288 with 1 Axes>"
      ]
     },
     "metadata": {
      "needs_background": "light"
     },
     "output_type": "display_data"
    }
   ],
   "source": [
    "sns.countplot(Suicide['class'])\n",
    "plt.show()"
   ]
  },
  {
   "cell_type": "code",
   "execution_count": 6,
   "metadata": {
    "execution": {
     "iopub.execute_input": "2022-05-20T18:20:44.606569Z",
     "iopub.status.busy": "2022-05-20T18:20:44.605953Z",
     "iopub.status.idle": "2022-05-20T18:20:46.559195Z",
     "shell.execute_reply": "2022-05-20T18:20:46.558693Z",
     "shell.execute_reply.started": "2022-03-07T11:15:49.892626Z"
    },
    "papermill": {
     "duration": 2.017663,
     "end_time": "2022-05-20T18:20:46.559309",
     "exception": false,
     "start_time": "2022-05-20T18:20:44.541646",
     "status": "completed"
    },
    "tags": []
   },
   "outputs": [
    {
     "data": {
      "text/plain": [
       "count    232074.000000\n",
       "mean        131.546438\n",
       "std         222.081581\n",
       "min           1.000000\n",
       "25%          26.000000\n",
       "50%          60.000000\n",
       "75%         154.000000\n",
       "max       15632.000000\n",
       "Name: Length, dtype: float64"
      ]
     },
     "execution_count": 6,
     "metadata": {},
     "output_type": "execute_result"
    }
   ],
   "source": [
    "Suicide['Length'] = Suicide['text'].apply(lambda x: len(x.split(' ')))\n",
    "Suicide['Length'].describe()"
   ]
  },
  {
   "cell_type": "code",
   "execution_count": 7,
   "metadata": {
    "execution": {
     "iopub.execute_input": "2022-05-20T18:20:46.688140Z",
     "iopub.status.busy": "2022-05-20T18:20:46.687378Z",
     "iopub.status.idle": "2022-05-20T18:20:46.730843Z",
     "shell.execute_reply": "2022-05-20T18:20:46.731471Z",
     "shell.execute_reply.started": "2022-03-07T11:15:51.913142Z"
    },
    "papermill": {
     "duration": 0.111307,
     "end_time": "2022-05-20T18:20:46.731663",
     "exception": false,
     "start_time": "2022-05-20T18:20:46.620356",
     "status": "completed"
    },
    "tags": []
   },
   "outputs": [
    {
     "name": "stdout",
     "output_type": "stream",
     "text": [
      "15.0\n",
      "22.0\n",
      "30.0\n",
      "42.0\n",
      "60.0\n",
      "86.0\n",
      "126.0\n",
      "190.0\n",
      "317.0\n"
     ]
    }
   ],
   "source": [
    "for i in [0.1,0.2,0.3,0.4,0.5,0.6,0.7,0.8,0.9]:\n",
    "    print(Suicide['Length'].quantile(i))"
   ]
  },
  {
   "cell_type": "code",
   "execution_count": 8,
   "metadata": {
    "execution": {
     "iopub.execute_input": "2022-05-20T18:20:46.868952Z",
     "iopub.status.busy": "2022-05-20T18:20:46.866581Z",
     "iopub.status.idle": "2022-05-20T18:20:46.907548Z",
     "shell.execute_reply": "2022-05-20T18:20:46.906893Z",
     "shell.execute_reply.started": "2022-03-07T11:15:51.966093Z"
    },
    "papermill": {
     "duration": 0.10574,
     "end_time": "2022-05-20T18:20:46.907665",
     "exception": false,
     "start_time": "2022-05-20T18:20:46.801925",
     "status": "completed"
    },
    "tags": []
   },
   "outputs": [
    {
     "name": "stdout",
     "output_type": "stream",
     "text": [
      "339.0\n",
      "363.0\n",
      "393.0\n",
      "427.0\n",
      "470.0\n",
      "526.0\n",
      "604.0\n",
      "721.0\n",
      "960.0\n"
     ]
    }
   ],
   "source": [
    "for i in [0.91,0.92,0.93,0.94,0.95,0.96,0.97,0.98,0.99]:\n",
    "    print(Suicide['Length'].quantile(i))"
   ]
  },
  {
   "cell_type": "markdown",
   "metadata": {
    "execution": {
     "iopub.execute_input": "2022-05-20T18:20:47.035248Z",
     "iopub.status.busy": "2022-05-20T18:20:47.033659Z",
     "iopub.status.idle": "2022-05-20T18:20:47.038296Z",
     "shell.execute_reply": "2022-05-20T18:20:47.037851Z",
     "shell.execute_reply.started": "2022-03-07T11:15:52.019333Z"
    },
    "papermill": {
     "duration": 0.068637,
     "end_time": "2022-05-20T18:20:47.038413",
     "exception": false,
     "start_time": "2022-05-20T18:20:46.969776",
     "status": "completed"
    },
    "tags": []
   },
   "source": [
    "Cutting off the post length at 317 words. "
   ]
  },
  {
   "cell_type": "code",
   "execution_count": 9,
   "metadata": {
    "execution": {
     "iopub.execute_input": "2022-05-20T18:20:47.164736Z",
     "iopub.status.busy": "2022-05-20T18:20:47.164271Z",
     "iopub.status.idle": "2022-05-20T18:20:47.185946Z",
     "shell.execute_reply": "2022-05-20T18:20:47.186343Z",
     "shell.execute_reply.started": "2022-03-07T11:15:52.025788Z"
    },
    "papermill": {
     "duration": 0.08731,
     "end_time": "2022-05-20T18:20:47.186531",
     "exception": false,
     "start_time": "2022-05-20T18:20:47.099221",
     "status": "completed"
    },
    "tags": []
   },
   "outputs": [],
   "source": [
    "Suicide = Suicide[Suicide.Length<=317]"
   ]
  },
  {
   "cell_type": "code",
   "execution_count": 10,
   "metadata": {
    "execution": {
     "iopub.execute_input": "2022-05-20T18:20:47.322392Z",
     "iopub.status.busy": "2022-05-20T18:20:47.313704Z",
     "iopub.status.idle": "2022-05-20T18:20:47.518202Z",
     "shell.execute_reply": "2022-05-20T18:20:47.518764Z",
     "shell.execute_reply.started": "2022-03-07T11:15:52.060847Z"
    },
    "papermill": {
     "duration": 0.270368,
     "end_time": "2022-05-20T18:20:47.518914",
     "exception": false,
     "start_time": "2022-05-20T18:20:47.248546",
     "status": "completed"
    },
    "tags": []
   },
   "outputs": [
    {
     "data": {
      "image/png": "[encoded data removed]",
      "text/plain": [
       "<Figure size 432x288 with 1 Axes>"
      ]
     },
     "metadata": {
      "needs_background": "light"
     },
     "output_type": "display_data"
    }
   ],
   "source": [
    "sns.countplot(Suicide['class'])\n",
    "plt.show()"
   ]
  },
  {
   "cell_type": "code",
   "execution_count": 11,
   "metadata": {
    "execution": {
     "iopub.execute_input": "2022-05-20T18:20:47.656234Z",
     "iopub.status.busy": "2022-05-20T18:20:47.655708Z",
     "iopub.status.idle": "2022-05-20T18:20:47.658987Z",
     "shell.execute_reply": "2022-05-20T18:20:47.658602Z",
     "shell.execute_reply.started": "2022-03-07T11:15:52.482622Z"
    },
    "papermill": {
     "duration": 0.069221,
     "end_time": "2022-05-20T18:20:47.659116",
     "exception": false,
     "start_time": "2022-05-20T18:20:47.589895",
     "status": "completed"
    },
    "tags": []
   },
   "outputs": [
    {
     "data": {
      "text/plain": [
       "208955"
      ]
     },
     "execution_count": 11,
     "metadata": {},
     "output_type": "execute_result"
    }
   ],
   "source": [
    "len(Suicide)"
   ]
  },
  {
   "cell_type": "markdown",
   "metadata": {
    "execution": {
     "iopub.execute_input": "2022-05-20T18:20:47.791129Z",
     "iopub.status.busy": "2022-05-20T18:20:47.790665Z",
     "iopub.status.idle": "2022-05-20T18:20:47.793075Z",
     "shell.execute_reply": "2022-05-20T18:20:47.792639Z",
     "shell.execute_reply.started": "2022-03-07T11:15:52.492002Z"
    },
    "papermill": {
     "duration": 0.070478,
     "end_time": "2022-05-20T18:20:47.793191",
     "exception": false,
     "start_time": "2022-05-20T18:20:47.722713",
     "status": "completed"
    },
    "tags": []
   },
   "source": [
    "As we can see we still get a good distribution of the target class."
   ]
  },
  {
   "cell_type": "code",
   "execution_count": 12,
   "metadata": {
    "execution": {
     "iopub.execute_input": "2022-05-20T18:20:47.938914Z",
     "iopub.status.busy": "2022-05-20T18:20:47.933999Z",
     "iopub.status.idle": "2022-05-20T18:20:52.042615Z",
     "shell.execute_reply": "2022-05-20T18:20:52.042155Z",
     "shell.execute_reply.started": "2022-03-07T11:15:52.510419Z"
    },
    "papermill": {
     "duration": 4.185316,
     "end_time": "2022-05-20T18:20:52.042730",
     "exception": false,
     "start_time": "2022-05-20T18:20:47.857414",
     "status": "completed"
    },
    "tags": []
   },
   "outputs": [
    {
     "data": {
      "text/plain": [
       "16688702"
      ]
     },
     "execution_count": 12,
     "metadata": {},
     "output_type": "execute_result"
    }
   ],
   "source": [
    "Words = list()\n",
    "for i in Suicide['text']:\n",
    "    for j in i.split(' '):\n",
    "        Words.append(j.upper())\n",
    "len(Words)"
   ]
  },
  {
   "cell_type": "code",
   "execution_count": 13,
   "metadata": {
    "execution": {
     "iopub.execute_input": "2022-05-20T18:20:52.170728Z",
     "iopub.status.busy": "2022-05-20T18:20:52.170274Z",
     "iopub.status.idle": "2022-05-20T18:20:52.173393Z",
     "shell.execute_reply": "2022-05-20T18:20:52.172920Z",
     "shell.execute_reply.started": "2022-03-07T11:15:58.628295Z"
    },
    "papermill": {
     "duration": 0.068168,
     "end_time": "2022-05-20T18:20:52.173510",
     "exception": false,
     "start_time": "2022-05-20T18:20:52.105342",
     "status": "completed"
    },
    "tags": []
   },
   "outputs": [],
   "source": [
    "from collections import Counter"
   ]
  },
  {
   "cell_type": "code",
   "execution_count": 14,
   "metadata": {
    "execution": {
     "iopub.execute_input": "2022-05-20T18:20:55.601676Z",
     "iopub.status.busy": "2022-05-20T18:20:55.594321Z",
     "iopub.status.idle": "2022-05-20T18:20:55.840343Z",
     "shell.execute_reply": "2022-05-20T18:20:55.839833Z",
     "shell.execute_reply.started": "2022-03-07T11:15:58.633934Z"
    },
    "papermill": {
     "duration": 3.603947,
     "end_time": "2022-05-20T18:20:55.840450",
     "exception": false,
     "start_time": "2022-05-20T18:20:52.236503",
     "status": "completed"
    },
    "tags": []
   },
   "outputs": [
    {
     "data": {
      "text/html": [
       "<div>\n",
       "<style scoped>\n",
       "    .dataframe tbody tr th:only-of-type {\n",
       "        vertical-align: middle;\n",
       "    }\n",
       "\n",
       "    .dataframe tbody tr th {\n",
       "        vertical-align: top;\n",
       "    }\n",
       "\n",
       "    .dataframe thead th {\n",
       "        text-align: right;\n",
       "    }\n",
       "</style>\n",
       "<table border=\"1\" class=\"dataframe\">\n",
       "  <thead>\n",
       "    <tr style=\"text-align: right;\">\n",
       "      <th></th>\n",
       "      <th>Word</th>\n",
       "      <th>Frequency</th>\n",
       "    </tr>\n",
       "  </thead>\n",
       "  <tbody>\n",
       "    <tr>\n",
       "      <th>4</th>\n",
       "      <td>I</td>\n",
       "      <td>890895</td>\n",
       "    </tr>\n",
       "    <tr>\n",
       "      <th>18</th>\n",
       "      <td>TO</td>\n",
       "      <td>558762</td>\n",
       "    </tr>\n",
       "    <tr>\n",
       "      <th>16</th>\n",
       "      <td>AND</td>\n",
       "      <td>464789</td>\n",
       "    </tr>\n",
       "    <tr>\n",
       "      <th>90</th>\n",
       "      <td>THE</td>\n",
       "      <td>350903</td>\n",
       "    </tr>\n",
       "    <tr>\n",
       "      <th>30</th>\n",
       "      <td>A</td>\n",
       "      <td>339305</td>\n",
       "    </tr>\n",
       "    <tr>\n",
       "      <th>...</th>\n",
       "      <td>...</td>\n",
       "      <td>...</td>\n",
       "    </tr>\n",
       "    <tr>\n",
       "      <th>404</th>\n",
       "      <td>CAN'T</td>\n",
       "      <td>35968</td>\n",
       "    </tr>\n",
       "    <tr>\n",
       "      <th>296</th>\n",
       "      <td>HAD</td>\n",
       "      <td>35618</td>\n",
       "    </tr>\n",
       "    <tr>\n",
       "      <th>460</th>\n",
       "      <td>DON’T</td>\n",
       "      <td>35336</td>\n",
       "    </tr>\n",
       "    <tr>\n",
       "      <th>1328</th>\n",
       "      <td>I'VE</td>\n",
       "      <td>35261</td>\n",
       "    </tr>\n",
       "    <tr>\n",
       "      <th>158</th>\n",
       "      <td>ONLY</td>\n",
       "      <td>34925</td>\n",
       "    </tr>\n",
       "  </tbody>\n",
       "</table>\n",
       "<p>70 rows × 2 columns</p>\n",
       "</div>"
      ],
      "text/plain": [
       "       Word  Frequency\n",
       "4         I     890895\n",
       "18       TO     558762\n",
       "16      AND     464789\n",
       "90      THE     350903\n",
       "30        A     339305\n",
       "...     ...        ...\n",
       "404   CAN'T      35968\n",
       "296     HAD      35618\n",
       "460   DON’T      35336\n",
       "1328   I'VE      35261\n",
       "158    ONLY      34925\n",
       "\n",
       "[70 rows x 2 columns]"
      ]
     },
     "execution_count": 14,
     "metadata": {},
     "output_type": "execute_result"
    }
   ],
   "source": [
    "Words_Freq = Counter(Words)\n",
    "Words_Freq = pd.DataFrame({'Word':list(Words_Freq.keys()),'Frequency':list(Words_Freq.values())})\n",
    "Words_Freq.sort_values('Frequency',ascending=False,inplace=True)\n",
    "Words_Freq.head(70)"
   ]
  },
  {
   "cell_type": "code",
   "execution_count": 15,
   "metadata": {
    "execution": {
     "iopub.execute_input": "2022-05-20T18:20:55.971696Z",
     "iopub.status.busy": "2022-05-20T18:20:55.971178Z",
     "iopub.status.idle": "2022-05-20T18:20:55.974404Z",
     "shell.execute_reply": "2022-05-20T18:20:55.973927Z",
     "shell.execute_reply.started": "2022-03-07T11:16:02.658729Z"
    },
    "papermill": {
     "duration": 0.070819,
     "end_time": "2022-05-20T18:20:55.974511",
     "exception": false,
     "start_time": "2022-05-20T18:20:55.903692",
     "status": "completed"
    },
    "tags": []
   },
   "outputs": [
    {
     "data": {
      "text/plain": [
       "428444"
      ]
     },
     "execution_count": 15,
     "metadata": {},
     "output_type": "execute_result"
    }
   ],
   "source": [
    "len(Words_Freq)"
   ]
  },
  {
   "cell_type": "code",
   "execution_count": 16,
   "metadata": {
    "execution": {
     "iopub.execute_input": "2022-05-20T18:20:56.109745Z",
     "iopub.status.busy": "2022-05-20T18:20:56.109104Z",
     "iopub.status.idle": "2022-05-20T18:20:56.126000Z",
     "shell.execute_reply": "2022-05-20T18:20:56.126464Z",
     "shell.execute_reply.started": "2022-03-07T11:16:02.667032Z"
    },
    "papermill": {
     "duration": 0.086322,
     "end_time": "2022-05-20T18:20:56.126621",
     "exception": false,
     "start_time": "2022-05-20T18:20:56.040299",
     "status": "completed"
    },
    "tags": []
   },
   "outputs": [
    {
     "data": {
      "text/plain": [
       "count    428444.000000\n",
       "mean         38.951886\n",
       "std        2288.110751\n",
       "min           1.000000\n",
       "25%           1.000000\n",
       "50%           1.000000\n",
       "75%           2.000000\n",
       "max      890895.000000\n",
       "Name: Frequency, dtype: float64"
      ]
     },
     "execution_count": 16,
     "metadata": {},
     "output_type": "execute_result"
    }
   ],
   "source": [
    "Words_Freq['Frequency'].describe()"
   ]
  },
  {
   "cell_type": "code",
   "execution_count": 17,
   "metadata": {
    "execution": {
     "iopub.execute_input": "2022-05-20T18:20:56.259895Z",
     "iopub.status.busy": "2022-05-20T18:20:56.259389Z",
     "iopub.status.idle": "2022-05-20T18:20:56.317877Z",
     "shell.execute_reply": "2022-05-20T18:20:56.317479Z",
     "shell.execute_reply.started": "2022-03-07T11:16:02.697904Z"
    },
    "papermill": {
     "duration": 0.127185,
     "end_time": "2022-05-20T18:20:56.317988",
     "exception": false,
     "start_time": "2022-05-20T18:20:56.190803",
     "status": "completed"
    },
    "tags": []
   },
   "outputs": [
    {
     "name": "stdout",
     "output_type": "stream",
     "text": [
      "228.0\n",
      "270.0\n",
      "325.8989999999758\n",
      "406.0\n",
      "528.0\n",
      "709.0\n",
      "1035.0\n",
      "1825.0\n",
      "4104.140000000596\n"
     ]
    }
   ],
   "source": [
    "for i in [0.991,0.992,0.993,0.994,0.995,0.996,0.997,0.998,0.999]:\n",
    "    print(Words_Freq['Frequency'].quantile(i))"
   ]
  },
  {
   "cell_type": "markdown",
   "metadata": {
    "execution": {
     "iopub.execute_input": "2022-05-20T18:20:56.449509Z",
     "iopub.status.busy": "2022-05-20T18:20:56.449028Z",
     "iopub.status.idle": "2022-05-20T18:20:56.453104Z",
     "shell.execute_reply": "2022-05-20T18:20:56.452622Z",
     "shell.execute_reply.started": "2022-03-07T11:16:02.786864Z"
    },
    "papermill": {
     "duration": 0.071745,
     "end_time": "2022-05-20T18:20:56.453204",
     "exception": false,
     "start_time": "2022-05-20T18:20:56.381459",
     "status": "completed"
    },
    "tags": []
   },
   "source": [
    "Cutting off the words frequency at above 99 quantile and below 31905"
   ]
  },
  {
   "cell_type": "code",
   "execution_count": 18,
   "metadata": {
    "execution": {
     "iopub.execute_input": "2022-05-20T18:20:56.586947Z",
     "iopub.status.busy": "2022-05-20T18:20:56.586463Z",
     "iopub.status.idle": "2022-05-20T18:20:56.598314Z",
     "shell.execute_reply": "2022-05-20T18:20:56.597800Z",
     "shell.execute_reply.started": "2022-03-07T11:16:02.792359Z"
    },
    "papermill": {
     "duration": 0.081748,
     "end_time": "2022-05-20T18:20:56.598432",
     "exception": false,
     "start_time": "2022-05-20T18:20:56.516684",
     "status": "completed"
    },
    "tags": []
   },
   "outputs": [
    {
     "data": {
      "text/plain": [
       "4281"
      ]
     },
     "execution_count": 18,
     "metadata": {},
     "output_type": "execute_result"
    }
   ],
   "source": [
    "Words_Freq = Words_Freq[Words_Freq['Frequency']>Words_Freq['Frequency'].quantile(0.99)]\n",
    "len(Words_Freq)"
   ]
  },
  {
   "cell_type": "code",
   "execution_count": 19,
   "metadata": {
    "execution": {
     "iopub.execute_input": "2022-05-20T18:20:56.741215Z",
     "iopub.status.busy": "2022-05-20T18:20:56.737887Z",
     "iopub.status.idle": "2022-05-20T18:20:56.744496Z",
     "shell.execute_reply": "2022-05-20T18:20:56.743864Z",
     "shell.execute_reply.started": "2022-03-07T11:16:02.818842Z"
    },
    "papermill": {
     "duration": 0.0791,
     "end_time": "2022-05-20T18:20:56.744624",
     "exception": false,
     "start_time": "2022-05-20T18:20:56.665524",
     "status": "completed"
    },
    "tags": []
   },
   "outputs": [
    {
     "data": {
      "text/plain": [
       "count      4281.000000\n",
       "mean       3504.923616\n",
       "std       22625.909153\n",
       "min         195.000000\n",
       "25%         294.000000\n",
       "50%         528.000000\n",
       "75%        1378.000000\n",
       "max      890895.000000\n",
       "Name: Frequency, dtype: float64"
      ]
     },
     "execution_count": 19,
     "metadata": {},
     "output_type": "execute_result"
    }
   ],
   "source": [
    "Words_Freq['Frequency'].describe()"
   ]
  },
  {
   "cell_type": "code",
   "execution_count": 20,
   "metadata": {
    "execution": {
     "iopub.execute_input": "2022-05-20T18:20:57.457053Z",
     "iopub.status.busy": "2022-05-20T18:20:57.454308Z",
     "iopub.status.idle": "2022-05-20T18:20:57.460871Z",
     "shell.execute_reply": "2022-05-20T18:20:57.461250Z",
     "shell.execute_reply.started": "2022-03-07T11:16:02.830614Z"
    },
    "papermill": {
     "duration": 0.616412,
     "end_time": "2022-05-20T18:20:57.461393",
     "exception": false,
     "start_time": "2022-05-20T18:20:56.844981",
     "status": "completed"
    },
    "tags": []
   },
   "outputs": [
    {
     "data": {
      "text/html": [
       "<div>\n",
       "<style scoped>\n",
       "    .dataframe tbody tr th:only-of-type {\n",
       "        vertical-align: middle;\n",
       "    }\n",
       "\n",
       "    .dataframe tbody tr th {\n",
       "        vertical-align: top;\n",
       "    }\n",
       "\n",
       "    .dataframe thead th {\n",
       "        text-align: right;\n",
       "    }\n",
       "</style>\n",
       "<table border=\"1\" class=\"dataframe\">\n",
       "  <thead>\n",
       "    <tr style=\"text-align: right;\">\n",
       "      <th></th>\n",
       "      <th>Word</th>\n",
       "      <th>Frequency</th>\n",
       "    </tr>\n",
       "  </thead>\n",
       "  <tbody>\n",
       "    <tr>\n",
       "      <th>726</th>\n",
       "      <td>SOME</td>\n",
       "      <td>31882</td>\n",
       "    </tr>\n",
       "    <tr>\n",
       "      <th>145</th>\n",
       "      <td>ME.</td>\n",
       "      <td>31630</td>\n",
       "    </tr>\n",
       "    <tr>\n",
       "      <th>3986</th>\n",
       "      <td>FILLER</td>\n",
       "      <td>31016</td>\n",
       "    </tr>\n",
       "    <tr>\n",
       "      <th>1254</th>\n",
       "      <td>WE</td>\n",
       "      <td>30745</td>\n",
       "    </tr>\n",
       "    <tr>\n",
       "      <th>11</th>\n",
       "      <td>HAS</td>\n",
       "      <td>29485</td>\n",
       "    </tr>\n",
       "  </tbody>\n",
       "</table>\n",
       "</div>"
      ],
      "text/plain": [
       "        Word  Frequency\n",
       "726     SOME      31882\n",
       "145      ME.      31630\n",
       "3986  FILLER      31016\n",
       "1254      WE      30745\n",
       "11       HAS      29485"
      ]
     },
     "execution_count": 20,
     "metadata": {},
     "output_type": "execute_result"
    }
   ],
   "source": [
    "Words_Freq = Words_Freq[Words_Freq['Frequency'] < 31905]\n",
    "Words_Freq.head()"
   ]
  },
  {
   "cell_type": "code",
   "execution_count": 21,
   "metadata": {
    "execution": {
     "iopub.execute_input": "2022-05-20T18:20:57.596474Z",
     "iopub.status.busy": "2022-05-20T18:20:57.595323Z",
     "iopub.status.idle": "2022-05-20T18:20:57.598072Z",
     "shell.execute_reply": "2022-05-20T18:20:57.598473Z",
     "shell.execute_reply.started": "2022-03-07T11:16:02.845691Z"
    },
    "papermill": {
     "duration": 0.072613,
     "end_time": "2022-05-20T18:20:57.598607",
     "exception": false,
     "start_time": "2022-05-20T18:20:57.525994",
     "status": "completed"
    },
    "tags": []
   },
   "outputs": [
    {
     "data": {
      "text/plain": [
       "4202"
      ]
     },
     "execution_count": 21,
     "metadata": {},
     "output_type": "execute_result"
    }
   ],
   "source": [
    "len(Words_Freq)"
   ]
  },
  {
   "cell_type": "markdown",
   "metadata": {
    "execution": {
     "iopub.execute_input": "2022-05-20T18:20:57.745849Z",
     "iopub.status.busy": "2022-05-20T18:20:57.745147Z",
     "iopub.status.idle": "2022-05-20T18:20:57.747016Z",
     "shell.execute_reply": "2022-05-20T18:20:57.746553Z",
     "shell.execute_reply.started": "2022-03-07T11:16:02.852182Z"
    },
    "papermill": {
     "duration": 0.082891,
     "end_time": "2022-05-20T18:20:57.747164",
     "exception": false,
     "start_time": "2022-05-20T18:20:57.664273",
     "status": "completed"
    },
    "tags": []
   },
   "source": [
    "We have to reduce the number of words for processing capacity. "
   ]
  },
  {
   "cell_type": "code",
   "execution_count": 22,
   "metadata": {
    "execution": {
     "iopub.execute_input": "2022-05-20T18:20:57.894005Z",
     "iopub.status.busy": "2022-05-20T18:20:57.890109Z",
     "iopub.status.idle": "2022-05-20T18:20:57.903328Z",
     "shell.execute_reply": "2022-05-20T18:20:57.902852Z",
     "shell.execute_reply.started": "2022-03-07T11:16:02.864739Z"
    },
    "papermill": {
     "duration": 0.083703,
     "end_time": "2022-05-20T18:20:57.903429",
     "exception": false,
     "start_time": "2022-05-20T18:20:57.819726",
     "status": "completed"
    },
    "tags": []
   },
   "outputs": [
    {
     "name": "stdout",
     "output_type": "stream",
     "text": [
      "19803.07699999997\n",
      "20529.751999999964\n",
      "21670.046999999926\n",
      "22609.074000000095\n",
      "24278.224999999984\n",
      "25391.77599999999\n",
      "26753.60599999999\n",
      "27639.58599999999\n",
      "29412.64000000032\n"
     ]
    }
   ],
   "source": [
    "for i in [0.991,0.992,0.993,0.994,0.995,0.996,0.997,0.998,0.999]:\n",
    "    print(Words_Freq['Frequency'].quantile(i))"
   ]
  },
  {
   "cell_type": "code",
   "execution_count": 23,
   "metadata": {
    "execution": {
     "iopub.execute_input": "2022-05-20T18:20:58.043903Z",
     "iopub.status.busy": "2022-05-20T18:20:58.043288Z",
     "iopub.status.idle": "2022-05-20T18:20:58.046291Z",
     "shell.execute_reply": "2022-05-20T18:20:58.045762Z",
     "shell.execute_reply.started": "2022-03-07T11:16:02.886596Z"
    },
    "papermill": {
     "duration": 0.077221,
     "end_time": "2022-05-20T18:20:58.046390",
     "exception": false,
     "start_time": "2022-05-20T18:20:57.969169",
     "status": "completed"
    },
    "tags": []
   },
   "outputs": [
    {
     "data": {
      "text/html": [
       "<div>\n",
       "<style scoped>\n",
       "    .dataframe tbody tr th:only-of-type {\n",
       "        vertical-align: middle;\n",
       "    }\n",
       "\n",
       "    .dataframe tbody tr th {\n",
       "        vertical-align: top;\n",
       "    }\n",
       "\n",
       "    .dataframe thead th {\n",
       "        text-align: right;\n",
       "    }\n",
       "</style>\n",
       "<table border=\"1\" class=\"dataframe\">\n",
       "  <thead>\n",
       "    <tr style=\"text-align: right;\">\n",
       "      <th></th>\n",
       "      <th>Word</th>\n",
       "      <th>Frequency</th>\n",
       "    </tr>\n",
       "  </thead>\n",
       "  <tbody>\n",
       "    <tr>\n",
       "      <th>71</th>\n",
       "      <td>SUPPOSED</td>\n",
       "      <td>3718</td>\n",
       "    </tr>\n",
       "    <tr>\n",
       "      <th>117</th>\n",
       "      <td>HEAR</td>\n",
       "      <td>3711</td>\n",
       "    </tr>\n",
       "    <tr>\n",
       "      <th>2096</th>\n",
       "      <td>FRIENDS.</td>\n",
       "      <td>3684</td>\n",
       "    </tr>\n",
       "    <tr>\n",
       "      <th>3339</th>\n",
       "      <td>MOTHER</td>\n",
       "      <td>3668</td>\n",
       "    </tr>\n",
       "    <tr>\n",
       "      <th>2387</th>\n",
       "      <td>LOVED</td>\n",
       "      <td>3617</td>\n",
       "    </tr>\n",
       "  </tbody>\n",
       "</table>\n",
       "</div>"
      ],
      "text/plain": [
       "          Word  Frequency\n",
       "71    SUPPOSED       3718\n",
       "117       HEAR       3711\n",
       "2096  FRIENDS.       3684\n",
       "3339    MOTHER       3668\n",
       "2387     LOVED       3617"
      ]
     },
     "execution_count": 23,
     "metadata": {},
     "output_type": "execute_result"
    }
   ],
   "source": [
    "Words_Freq = Words_Freq[Words_Freq['Frequency'] >= 3615.8130000000237]\n",
    "Words_Freq.tail()"
   ]
  },
  {
   "cell_type": "code",
   "execution_count": 24,
   "metadata": {
    "execution": {
     "iopub.execute_input": "2022-05-20T18:20:58.177397Z",
     "iopub.status.busy": "2022-05-20T18:20:58.176707Z",
     "iopub.status.idle": "2022-05-20T18:20:58.179674Z",
     "shell.execute_reply": "2022-05-20T18:20:58.179247Z",
     "shell.execute_reply.started": "2022-03-07T11:16:02.898325Z"
    },
    "papermill": {
     "duration": 0.069577,
     "end_time": "2022-05-20T18:20:58.179761",
     "exception": false,
     "start_time": "2022-05-20T18:20:58.110184",
     "status": "completed"
    },
    "tags": []
   },
   "outputs": [
    {
     "data": {
      "text/plain": [
       "380"
      ]
     },
     "execution_count": 24,
     "metadata": {},
     "output_type": "execute_result"
    }
   ],
   "source": [
    "len(Words_Freq)"
   ]
  },
  {
   "cell_type": "markdown",
   "metadata": {
    "execution": {
     "iopub.execute_input": "2022-05-20T18:20:58.311009Z",
     "iopub.status.busy": "2022-05-20T18:20:58.310575Z",
     "iopub.status.idle": "2022-05-20T18:20:58.313440Z",
     "shell.execute_reply": "2022-05-20T18:20:58.312936Z",
     "shell.execute_reply.started": "2022-03-07T11:16:02.911908Z"
    },
    "papermill": {
     "duration": 0.070368,
     "end_time": "2022-05-20T18:20:58.313539",
     "exception": false,
     "start_time": "2022-05-20T18:20:58.243171",
     "status": "completed"
    },
    "tags": []
   },
   "source": [
    "We get a good list of words. However we might have to reduce this list further based on capacity. "
   ]
  },
  {
   "cell_type": "markdown",
   "metadata": {
    "execution": {
     "iopub.execute_input": "2022-05-20T18:20:58.444560Z",
     "iopub.status.busy": "2022-05-20T18:20:58.443984Z",
     "iopub.status.idle": "2022-05-20T18:20:58.446760Z",
     "shell.execute_reply": "2022-05-20T18:20:58.446320Z",
     "shell.execute_reply.started": "2022-03-07T11:16:02.922732Z"
    },
    "papermill": {
     "duration": 0.069834,
     "end_time": "2022-05-20T18:20:58.446871",
     "exception": false,
     "start_time": "2022-05-20T18:20:58.377037",
     "status": "completed"
    },
    "tags": []
   },
   "source": [
    "We will create separate variables for each of these words based on their presence in the posts. "
   ]
  },
  {
   "cell_type": "code",
   "execution_count": 25,
   "metadata": {
    "execution": {
     "iopub.execute_input": "2022-05-20T18:20:58.575409Z",
     "iopub.status.busy": "2022-05-20T18:20:58.574917Z",
     "iopub.status.idle": "2022-05-20T18:30:16.795451Z",
     "shell.execute_reply": "2022-05-20T18:30:16.795874Z",
     "shell.execute_reply.started": "2022-03-07T11:16:02.934448Z"
    },
    "papermill": {
     "duration": 558.286649,
     "end_time": "2022-05-20T18:30:16.796024",
     "exception": false,
     "start_time": "2022-05-20T18:20:58.509375",
     "status": "completed"
    },
    "tags": []
   },
   "outputs": [
    {
     "data": {
      "text/html": [
       "<div>\n",
       "<style scoped>\n",
       "    .dataframe tbody tr th:only-of-type {\n",
       "        vertical-align: middle;\n",
       "    }\n",
       "\n",
       "    .dataframe tbody tr th {\n",
       "        vertical-align: top;\n",
       "    }\n",
       "\n",
       "    .dataframe thead th {\n",
       "        text-align: right;\n",
       "    }\n",
       "</style>\n",
       "<table border=\"1\" class=\"dataframe\">\n",
       "  <thead>\n",
       "    <tr style=\"text-align: right;\">\n",
       "      <th></th>\n",
       "      <th>class</th>\n",
       "      <th>Length</th>\n",
       "      <th>SOME</th>\n",
       "      <th>ME.</th>\n",
       "      <th>FILLER</th>\n",
       "      <th>WE</th>\n",
       "      <th>HAS</th>\n",
       "      <th>FUCKING</th>\n",
       "      <th>WHY</th>\n",
       "      <th>BEING</th>\n",
       "      <th>...</th>\n",
       "      <th>WEIRD</th>\n",
       "      <th>WHAT'S</th>\n",
       "      <th>LONGER</th>\n",
       "      <th>OTHERS</th>\n",
       "      <th>THANK</th>\n",
       "      <th>SUPPOSED</th>\n",
       "      <th>HEAR</th>\n",
       "      <th>FRIENDS.</th>\n",
       "      <th>MOTHER</th>\n",
       "      <th>LOVED</th>\n",
       "    </tr>\n",
       "  </thead>\n",
       "  <tbody>\n",
       "    <tr>\n",
       "      <th>0</th>\n",
       "      <td>suicide</td>\n",
       "      <td>143</td>\n",
       "      <td>0</td>\n",
       "      <td>0</td>\n",
       "      <td>0</td>\n",
       "      <td>0</td>\n",
       "      <td>1</td>\n",
       "      <td>0</td>\n",
       "      <td>0</td>\n",
       "      <td>0</td>\n",
       "      <td>...</td>\n",
       "      <td>0</td>\n",
       "      <td>0</td>\n",
       "      <td>0</td>\n",
       "      <td>0</td>\n",
       "      <td>0</td>\n",
       "      <td>1</td>\n",
       "      <td>0</td>\n",
       "      <td>0</td>\n",
       "      <td>0</td>\n",
       "      <td>0</td>\n",
       "    </tr>\n",
       "    <tr>\n",
       "      <th>1</th>\n",
       "      <td>non-suicide</td>\n",
       "      <td>27</td>\n",
       "      <td>0</td>\n",
       "      <td>0</td>\n",
       "      <td>0</td>\n",
       "      <td>0</td>\n",
       "      <td>0</td>\n",
       "      <td>0</td>\n",
       "      <td>0</td>\n",
       "      <td>0</td>\n",
       "      <td>...</td>\n",
       "      <td>1</td>\n",
       "      <td>0</td>\n",
       "      <td>0</td>\n",
       "      <td>0</td>\n",
       "      <td>0</td>\n",
       "      <td>0</td>\n",
       "      <td>0</td>\n",
       "      <td>0</td>\n",
       "      <td>0</td>\n",
       "      <td>0</td>\n",
       "    </tr>\n",
       "    <tr>\n",
       "      <th>2</th>\n",
       "      <td>non-suicide</td>\n",
       "      <td>26</td>\n",
       "      <td>0</td>\n",
       "      <td>0</td>\n",
       "      <td>0</td>\n",
       "      <td>0</td>\n",
       "      <td>1</td>\n",
       "      <td>1</td>\n",
       "      <td>0</td>\n",
       "      <td>0</td>\n",
       "      <td>...</td>\n",
       "      <td>0</td>\n",
       "      <td>0</td>\n",
       "      <td>0</td>\n",
       "      <td>0</td>\n",
       "      <td>0</td>\n",
       "      <td>0</td>\n",
       "      <td>1</td>\n",
       "      <td>0</td>\n",
       "      <td>0</td>\n",
       "      <td>0</td>\n",
       "    </tr>\n",
       "    <tr>\n",
       "      <th>3</th>\n",
       "      <td>suicide</td>\n",
       "      <td>9</td>\n",
       "      <td>0</td>\n",
       "      <td>0</td>\n",
       "      <td>0</td>\n",
       "      <td>0</td>\n",
       "      <td>0</td>\n",
       "      <td>0</td>\n",
       "      <td>0</td>\n",
       "      <td>0</td>\n",
       "      <td>...</td>\n",
       "      <td>0</td>\n",
       "      <td>0</td>\n",
       "      <td>0</td>\n",
       "      <td>0</td>\n",
       "      <td>0</td>\n",
       "      <td>0</td>\n",
       "      <td>0</td>\n",
       "      <td>0</td>\n",
       "      <td>0</td>\n",
       "      <td>0</td>\n",
       "    </tr>\n",
       "    <tr>\n",
       "      <th>5</th>\n",
       "      <td>suicide</td>\n",
       "      <td>289</td>\n",
       "      <td>0</td>\n",
       "      <td>1</td>\n",
       "      <td>0</td>\n",
       "      <td>0</td>\n",
       "      <td>0</td>\n",
       "      <td>0</td>\n",
       "      <td>0</td>\n",
       "      <td>1</td>\n",
       "      <td>...</td>\n",
       "      <td>0</td>\n",
       "      <td>0</td>\n",
       "      <td>0</td>\n",
       "      <td>0</td>\n",
       "      <td>0</td>\n",
       "      <td>0</td>\n",
       "      <td>0</td>\n",
       "      <td>0</td>\n",
       "      <td>0</td>\n",
       "      <td>0</td>\n",
       "    </tr>\n",
       "  </tbody>\n",
       "</table>\n",
       "<p>5 rows × 382 columns</p>\n",
       "</div>"
      ],
      "text/plain": [
       "         class  Length  SOME  ME.  FILLER  WE  HAS  FUCKING  WHY  BEING  ...  \\\n",
       "0      suicide     143     0    0       0   0    1        0    0      0  ...   \n",
       "1  non-suicide      27     0    0       0   0    0        0    0      0  ...   \n",
       "2  non-suicide      26     0    0       0   0    1        1    0      0  ...   \n",
       "3      suicide       9     0    0       0   0    0        0    0      0  ...   \n",
       "5      suicide     289     0    1       0   0    0        0    0      1  ...   \n",
       "\n",
       "   WEIRD  WHAT'S  LONGER  OTHERS  THANK  SUPPOSED  HEAR  FRIENDS.  MOTHER  \\\n",
       "0      0       0       0       0      0         1     0         0       0   \n",
       "1      1       0       0       0      0         0     0         0       0   \n",
       "2      0       0       0       0      0         0     1         0       0   \n",
       "3      0       0       0       0      0         0     0         0       0   \n",
       "5      0       0       0       0      0         0     0         0       0   \n",
       "\n",
       "   LOVED  \n",
       "0      0  \n",
       "1      0  \n",
       "2      0  \n",
       "3      0  \n",
       "5      0  \n",
       "\n",
       "[5 rows x 382 columns]"
      ]
     },
     "execution_count": 25,
     "metadata": {},
     "output_type": "execute_result"
    }
   ],
   "source": [
    "Final_Words = list(Words_Freq.Word)\n",
    "for i in Final_Words:\n",
    "    Suicide[i] = Suicide['text'].apply(lambda x: 1 if i in x.upper().split(' ') else 0)\n",
    "Suicide.drop('text',axis=1,inplace=True)\n",
    "Suicide.head()"
   ]
  },
  {
   "cell_type": "code",
   "execution_count": 26,
   "metadata": {
    "execution": {
     "iopub.execute_input": "2022-05-20T18:30:16.944758Z",
     "iopub.status.busy": "2022-05-20T18:30:16.944202Z",
     "iopub.status.idle": "2022-05-20T18:30:16.946956Z",
     "shell.execute_reply": "2022-05-20T18:30:16.947346Z",
     "shell.execute_reply.started": "2022-03-07T11:26:10.693191Z"
    },
    "papermill": {
     "duration": 0.081565,
     "end_time": "2022-05-20T18:30:16.947501",
     "exception": false,
     "start_time": "2022-05-20T18:30:16.865936",
     "status": "completed"
    },
    "tags": []
   },
   "outputs": [
    {
     "data": {
      "text/plain": [
       "0    203642\n",
       "1      5313\n",
       "Name: LEAST, dtype: int64"
      ]
     },
     "execution_count": 26,
     "metadata": {},
     "output_type": "execute_result"
    }
   ],
   "source": [
    "Suicide['LEAST'].value_counts()"
   ]
  },
  {
   "cell_type": "code",
   "execution_count": 27,
   "metadata": {
    "execution": {
     "iopub.execute_input": "2022-05-20T18:30:17.096377Z",
     "iopub.status.busy": "2022-05-20T18:30:17.095562Z",
     "iopub.status.idle": "2022-05-20T18:30:17.261768Z",
     "shell.execute_reply": "2022-05-20T18:30:17.261053Z",
     "shell.execute_reply.started": "2022-03-07T11:26:10.705504Z"
    },
    "papermill": {
     "duration": 0.238516,
     "end_time": "2022-05-20T18:30:17.261904",
     "exception": false,
     "start_time": "2022-05-20T18:30:17.023388",
     "status": "completed"
    },
    "tags": []
   },
   "outputs": [
    {
     "data": {
      "text/html": [
       "<div>\n",
       "<style scoped>\n",
       "    .dataframe tbody tr th:only-of-type {\n",
       "        vertical-align: middle;\n",
       "    }\n",
       "\n",
       "    .dataframe tbody tr th {\n",
       "        vertical-align: top;\n",
       "    }\n",
       "\n",
       "    .dataframe thead th {\n",
       "        text-align: right;\n",
       "    }\n",
       "</style>\n",
       "<table border=\"1\" class=\"dataframe\">\n",
       "  <thead>\n",
       "    <tr style=\"text-align: right;\">\n",
       "      <th></th>\n",
       "      <th>class</th>\n",
       "      <th>Length</th>\n",
       "      <th>SOME</th>\n",
       "      <th>ME.</th>\n",
       "      <th>FILLER</th>\n",
       "      <th>WE</th>\n",
       "      <th>HAS</th>\n",
       "      <th>FUCKING</th>\n",
       "      <th>WHY</th>\n",
       "      <th>BEING</th>\n",
       "      <th>...</th>\n",
       "      <th>WEIRD</th>\n",
       "      <th>WHAT'S</th>\n",
       "      <th>LONGER</th>\n",
       "      <th>OTHERS</th>\n",
       "      <th>THANK</th>\n",
       "      <th>SUPPOSED</th>\n",
       "      <th>HEAR</th>\n",
       "      <th>FRIENDS.</th>\n",
       "      <th>MOTHER</th>\n",
       "      <th>LOVED</th>\n",
       "    </tr>\n",
       "  </thead>\n",
       "  <tbody>\n",
       "    <tr>\n",
       "      <th>0</th>\n",
       "      <td>1</td>\n",
       "      <td>143</td>\n",
       "      <td>0</td>\n",
       "      <td>0</td>\n",
       "      <td>0</td>\n",
       "      <td>0</td>\n",
       "      <td>1</td>\n",
       "      <td>0</td>\n",
       "      <td>0</td>\n",
       "      <td>0</td>\n",
       "      <td>...</td>\n",
       "      <td>0</td>\n",
       "      <td>0</td>\n",
       "      <td>0</td>\n",
       "      <td>0</td>\n",
       "      <td>0</td>\n",
       "      <td>1</td>\n",
       "      <td>0</td>\n",
       "      <td>0</td>\n",
       "      <td>0</td>\n",
       "      <td>0</td>\n",
       "    </tr>\n",
       "    <tr>\n",
       "      <th>1</th>\n",
       "      <td>0</td>\n",
       "      <td>27</td>\n",
       "      <td>0</td>\n",
       "      <td>0</td>\n",
       "      <td>0</td>\n",
       "      <td>0</td>\n",
       "      <td>0</td>\n",
       "      <td>0</td>\n",
       "      <td>0</td>\n",
       "      <td>0</td>\n",
       "      <td>...</td>\n",
       "      <td>1</td>\n",
       "      <td>0</td>\n",
       "      <td>0</td>\n",
       "      <td>0</td>\n",
       "      <td>0</td>\n",
       "      <td>0</td>\n",
       "      <td>0</td>\n",
       "      <td>0</td>\n",
       "      <td>0</td>\n",
       "      <td>0</td>\n",
       "    </tr>\n",
       "    <tr>\n",
       "      <th>2</th>\n",
       "      <td>0</td>\n",
       "      <td>26</td>\n",
       "      <td>0</td>\n",
       "      <td>0</td>\n",
       "      <td>0</td>\n",
       "      <td>0</td>\n",
       "      <td>1</td>\n",
       "      <td>1</td>\n",
       "      <td>0</td>\n",
       "      <td>0</td>\n",
       "      <td>...</td>\n",
       "      <td>0</td>\n",
       "      <td>0</td>\n",
       "      <td>0</td>\n",
       "      <td>0</td>\n",
       "      <td>0</td>\n",
       "      <td>0</td>\n",
       "      <td>1</td>\n",
       "      <td>0</td>\n",
       "      <td>0</td>\n",
       "      <td>0</td>\n",
       "    </tr>\n",
       "    <tr>\n",
       "      <th>3</th>\n",
       "      <td>1</td>\n",
       "      <td>9</td>\n",
       "      <td>0</td>\n",
       "      <td>0</td>\n",
       "      <td>0</td>\n",
       "      <td>0</td>\n",
       "      <td>0</td>\n",
       "      <td>0</td>\n",
       "      <td>0</td>\n",
       "      <td>0</td>\n",
       "      <td>...</td>\n",
       "      <td>0</td>\n",
       "      <td>0</td>\n",
       "      <td>0</td>\n",
       "      <td>0</td>\n",
       "      <td>0</td>\n",
       "      <td>0</td>\n",
       "      <td>0</td>\n",
       "      <td>0</td>\n",
       "      <td>0</td>\n",
       "      <td>0</td>\n",
       "    </tr>\n",
       "    <tr>\n",
       "      <th>5</th>\n",
       "      <td>1</td>\n",
       "      <td>289</td>\n",
       "      <td>0</td>\n",
       "      <td>1</td>\n",
       "      <td>0</td>\n",
       "      <td>0</td>\n",
       "      <td>0</td>\n",
       "      <td>0</td>\n",
       "      <td>0</td>\n",
       "      <td>1</td>\n",
       "      <td>...</td>\n",
       "      <td>0</td>\n",
       "      <td>0</td>\n",
       "      <td>0</td>\n",
       "      <td>0</td>\n",
       "      <td>0</td>\n",
       "      <td>0</td>\n",
       "      <td>0</td>\n",
       "      <td>0</td>\n",
       "      <td>0</td>\n",
       "      <td>0</td>\n",
       "    </tr>\n",
       "  </tbody>\n",
       "</table>\n",
       "<p>5 rows × 382 columns</p>\n",
       "</div>"
      ],
      "text/plain": [
       "   class  Length  SOME  ME.  FILLER  WE  HAS  FUCKING  WHY  BEING  ...  WEIRD  \\\n",
       "0      1     143     0    0       0   0    1        0    0      0  ...      0   \n",
       "1      0      27     0    0       0   0    0        0    0      0  ...      1   \n",
       "2      0      26     0    0       0   0    1        1    0      0  ...      0   \n",
       "3      1       9     0    0       0   0    0        0    0      0  ...      0   \n",
       "5      1     289     0    1       0   0    0        0    0      1  ...      0   \n",
       "\n",
       "   WHAT'S  LONGER  OTHERS  THANK  SUPPOSED  HEAR  FRIENDS.  MOTHER  LOVED  \n",
       "0       0       0       0      0         1     0         0       0      0  \n",
       "1       0       0       0      0         0     0         0       0      0  \n",
       "2       0       0       0      0         0     1         0       0      0  \n",
       "3       0       0       0      0         0     0         0       0      0  \n",
       "5       0       0       0      0         0     0         0       0      0  \n",
       "\n",
       "[5 rows x 382 columns]"
      ]
     },
     "execution_count": 27,
     "metadata": {},
     "output_type": "execute_result"
    }
   ],
   "source": [
    "Suicide['class'] = Suicide['class'].apply(lambda x: 1 if x == 'suicide' else 0)\n",
    "Suicide.head()"
   ]
  },
  {
   "cell_type": "markdown",
   "metadata": {
    "execution": {
     "iopub.execute_input": "2022-05-20T18:30:17.481212Z",
     "iopub.status.busy": "2022-05-20T18:30:17.480565Z",
     "iopub.status.idle": "2022-05-20T18:30:17.484706Z",
     "shell.execute_reply": "2022-05-20T18:30:17.484062Z",
     "shell.execute_reply.started": "2022-03-07T11:26:10.861562Z"
    },
    "papermill": {
     "duration": 0.116329,
     "end_time": "2022-05-20T18:30:17.484874",
     "exception": false,
     "start_time": "2022-05-20T18:30:17.368545",
     "status": "completed"
    },
    "tags": []
   },
   "source": [
    "# Exploratory Data Analysis"
   ]
  },
  {
   "cell_type": "code",
   "execution_count": 28,
   "metadata": {
    "execution": {
     "iopub.execute_input": "2022-05-20T18:30:17.707429Z",
     "iopub.status.busy": "2022-05-20T18:30:17.706644Z",
     "iopub.status.idle": "2022-05-20T18:30:20.911180Z",
     "shell.execute_reply": "2022-05-20T18:30:20.911707Z",
     "shell.execute_reply.started": "2022-03-07T11:26:10.866984Z"
    },
    "papermill": {
     "duration": 3.316887,
     "end_time": "2022-05-20T18:30:20.912117",
     "exception": false,
     "start_time": "2022-05-20T18:30:17.595230",
     "status": "completed"
    },
    "tags": []
   },
   "outputs": [
    {
     "data": {
      "image/png": "[encoded data removed]",
      "text/plain": [
       "<Figure size 864x360 with 1 Axes>"
      ]
     },
     "metadata": {
      "needs_background": "light"
     },
     "output_type": "display_data"
    }
   ],
   "source": [
    "plt.figure(figsize=(12,5))\n",
    "sns.barplot(x='class',y='Length',data=Suicide)\n",
    "plt.title('Class vs Length')\n",
    "plt.show()"
   ]
  },
  {
   "cell_type": "markdown",
   "metadata": {
    "execution": {
     "iopub.execute_input": "2022-05-20T18:30:21.134297Z",
     "iopub.status.busy": "2022-05-20T18:30:21.133753Z",
     "iopub.status.idle": "2022-05-20T18:30:21.136387Z",
     "shell.execute_reply": "2022-05-20T18:30:21.135976Z",
     "shell.execute_reply.started": "2022-03-07T11:26:13.980889Z"
    },
    "papermill": {
     "duration": 0.111656,
     "end_time": "2022-05-20T18:30:21.136493",
     "exception": false,
     "start_time": "2022-05-20T18:30:21.024837",
     "status": "completed"
    },
    "tags": []
   },
   "source": [
    "Since there are a still quite a lot of words we will check only the words with the highest correlation with the target variable."
   ]
  },
  {
   "cell_type": "code",
   "execution_count": 29,
   "metadata": {
    "execution": {
     "iopub.execute_input": "2022-05-20T18:30:21.308629Z",
     "iopub.status.busy": "2022-05-20T18:30:21.307817Z",
     "iopub.status.idle": "2022-05-20T18:30:21.310639Z",
     "shell.execute_reply": "2022-05-20T18:30:21.310151Z",
     "shell.execute_reply.started": "2022-03-07T11:26:13.985962Z"
    },
    "papermill": {
     "duration": 0.091198,
     "end_time": "2022-05-20T18:30:21.310812",
     "exception": false,
     "start_time": "2022-05-20T18:30:21.219614",
     "status": "completed"
    },
    "tags": []
   },
   "outputs": [],
   "source": [
    "from scipy.stats import pearsonr"
   ]
  },
  {
   "cell_type": "code",
   "execution_count": 30,
   "metadata": {
    "execution": {
     "iopub.execute_input": "2022-05-20T18:30:21.477118Z",
     "iopub.status.busy": "2022-05-20T18:30:21.476215Z",
     "iopub.status.idle": "2022-05-20T18:30:23.336544Z",
     "shell.execute_reply": "2022-05-20T18:30:23.337662Z",
     "shell.execute_reply.started": "2022-03-07T11:26:13.998576Z"
    },
    "papermill": {
     "duration": 1.955978,
     "end_time": "2022-05-20T18:30:23.338006",
     "exception": false,
     "start_time": "2022-05-20T18:30:21.382028",
     "status": "completed"
    },
    "tags": []
   },
   "outputs": [
    {
     "data": {
      "text/html": [
       "<div>\n",
       "<style scoped>\n",
       "    .dataframe tbody tr th:only-of-type {\n",
       "        vertical-align: middle;\n",
       "    }\n",
       "\n",
       "    .dataframe tbody tr th {\n",
       "        vertical-align: top;\n",
       "    }\n",
       "\n",
       "    .dataframe thead th {\n",
       "        text-align: right;\n",
       "    }\n",
       "</style>\n",
       "<table border=\"1\" class=\"dataframe\">\n",
       "  <thead>\n",
       "    <tr style=\"text-align: right;\">\n",
       "      <th></th>\n",
       "      <th>Feature</th>\n",
       "      <th>Correlation</th>\n",
       "    </tr>\n",
       "  </thead>\n",
       "  <tbody>\n",
       "    <tr>\n",
       "      <th>0</th>\n",
       "      <td>Length</td>\n",
       "      <td>0.458362</td>\n",
       "    </tr>\n",
       "    <tr>\n",
       "      <th>23</th>\n",
       "      <td>KILL</td>\n",
       "      <td>0.309071</td>\n",
       "    </tr>\n",
       "    <tr>\n",
       "      <th>2</th>\n",
       "      <td>ME.</td>\n",
       "      <td>0.279329</td>\n",
       "    </tr>\n",
       "    <tr>\n",
       "      <th>63</th>\n",
       "      <td>SUICIDE</td>\n",
       "      <td>0.271519</td>\n",
       "    </tr>\n",
       "    <tr>\n",
       "      <th>37</th>\n",
       "      <td>END</td>\n",
       "      <td>0.257212</td>\n",
       "    </tr>\n",
       "    <tr>\n",
       "      <th>73</th>\n",
       "      <td>ANYMORE.</td>\n",
       "      <td>0.247672</td>\n",
       "    </tr>\n",
       "    <tr>\n",
       "      <th>47</th>\n",
       "      <td>LIVE</td>\n",
       "      <td>0.228209</td>\n",
       "    </tr>\n",
       "    <tr>\n",
       "      <th>119</th>\n",
       "      <td>MYSELF.</td>\n",
       "      <td>0.222832</td>\n",
       "    </tr>\n",
       "    <tr>\n",
       "      <th>13</th>\n",
       "      <td>IT.</td>\n",
       "      <td>0.222543</td>\n",
       "    </tr>\n",
       "    <tr>\n",
       "      <th>132</th>\n",
       "      <td>SUICIDAL</td>\n",
       "      <td>0.219771</td>\n",
       "    </tr>\n",
       "  </tbody>\n",
       "</table>\n",
       "</div>"
      ],
      "text/plain": [
       "      Feature  Correlation\n",
       "0      Length     0.458362\n",
       "23       KILL     0.309071\n",
       "2         ME.     0.279329\n",
       "63    SUICIDE     0.271519\n",
       "37        END     0.257212\n",
       "73   ANYMORE.     0.247672\n",
       "47       LIVE     0.228209\n",
       "119   MYSELF.     0.222832\n",
       "13        IT.     0.222543\n",
       "132  SUICIDAL     0.219771"
      ]
     },
     "execution_count": 30,
     "metadata": {},
     "output_type": "execute_result"
    }
   ],
   "source": [
    "Correlations = dict()\n",
    "var = list(Suicide.columns)\n",
    "var.remove('class')\n",
    "for i in var:\n",
    "    Correlations[i] = pearsonr(Suicide[i],Suicide['class'])[0]\n",
    "Correlations = pd.DataFrame({'Feature':list(Correlations.keys()),'Correlation':list(Correlations.values())})\n",
    "Correlations.sort_values('Correlation',ascending=False,inplace=True)\n",
    "Correlations.set_index('Feature')\n",
    "Correlations.head(10)"
   ]
  },
  {
   "cell_type": "code",
   "execution_count": 31,
   "metadata": {
    "execution": {
     "iopub.execute_input": "2022-05-20T18:30:23.541600Z",
     "iopub.status.busy": "2022-05-20T18:30:23.541052Z",
     "iopub.status.idle": "2022-05-20T18:30:23.795916Z",
     "shell.execute_reply": "2022-05-20T18:30:23.796355Z",
     "shell.execute_reply.started": "2022-03-07T11:26:15.88275Z"
    },
    "papermill": {
     "duration": 0.359557,
     "end_time": "2022-05-20T18:30:23.796507",
     "exception": false,
     "start_time": "2022-05-20T18:30:23.436950",
     "status": "completed"
    },
    "scrolled": true,
    "tags": []
   },
   "outputs": [
    {
     "data": {
      "image/png": "[encoded data removed]",
      "text/plain": [
       "<Figure size 1080x360 with 1 Axes>"
      ]
     },
     "metadata": {
      "needs_background": "light"
     },
     "output_type": "display_data"
    }
   ],
   "source": [
    "temp = Correlations.head(15)\n",
    "plt.figure(figsize=(15,5))\n",
    "sns.barplot(x=temp.Correlation,y=temp.Feature)\n",
    "plt.title('Feature vs Correlation')\n",
    "plt.show()"
   ]
  },
  {
   "cell_type": "markdown",
   "metadata": {
    "execution": {
     "iopub.execute_input": "2022-05-20T18:30:23.940716Z",
     "iopub.status.busy": "2022-05-20T18:30:23.940233Z",
     "iopub.status.idle": "2022-05-20T18:30:23.944472Z",
     "shell.execute_reply": "2022-05-20T18:30:23.943973Z",
     "shell.execute_reply.started": "2022-03-07T11:26:16.200522Z"
    },
    "papermill": {
     "duration": 0.077036,
     "end_time": "2022-05-20T18:30:23.944573",
     "exception": false,
     "start_time": "2022-05-20T18:30:23.867537",
     "status": "completed"
    },
    "tags": []
   },
   "source": [
    "As we can see the correlations are not high considering the non linear relationship between the variables."
   ]
  },
  {
   "cell_type": "code",
   "execution_count": 32,
   "metadata": {
    "execution": {
     "iopub.execute_input": "2022-05-20T18:30:24.092890Z",
     "iopub.status.busy": "2022-05-20T18:30:24.092387Z",
     "iopub.status.idle": "2022-05-20T18:30:24.101032Z",
     "shell.execute_reply": "2022-05-20T18:30:24.101575Z",
     "shell.execute_reply.started": "2022-03-07T11:26:16.210691Z"
    },
    "papermill": {
     "duration": 0.085126,
     "end_time": "2022-05-20T18:30:24.101716",
     "exception": false,
     "start_time": "2022-05-20T18:30:24.016590",
     "status": "completed"
    },
    "tags": []
   },
   "outputs": [
    {
     "data": {
      "text/html": [
       "<div>\n",
       "<style scoped>\n",
       "    .dataframe tbody tr th:only-of-type {\n",
       "        vertical-align: middle;\n",
       "    }\n",
       "\n",
       "    .dataframe tbody tr th {\n",
       "        vertical-align: top;\n",
       "    }\n",
       "\n",
       "    .dataframe thead th {\n",
       "        text-align: right;\n",
       "    }\n",
       "</style>\n",
       "<table border=\"1\" class=\"dataframe\">\n",
       "  <thead>\n",
       "    <tr style=\"text-align: right;\">\n",
       "      <th></th>\n",
       "      <th>Feature</th>\n",
       "      <th>Correlation</th>\n",
       "    </tr>\n",
       "  </thead>\n",
       "  <tbody>\n",
       "    <tr>\n",
       "      <th>106</th>\n",
       "      <td>WANNA</td>\n",
       "      <td>-0.029934</td>\n",
       "    </tr>\n",
       "    <tr>\n",
       "      <th>371</th>\n",
       "      <td>WEIRD</td>\n",
       "      <td>-0.031056</td>\n",
       "    </tr>\n",
       "    <tr>\n",
       "      <th>246</th>\n",
       "      <td>IDK</td>\n",
       "      <td>-0.032433</td>\n",
       "    </tr>\n",
       "    <tr>\n",
       "      <th>4</th>\n",
       "      <td>WE</td>\n",
       "      <td>-0.032647</td>\n",
       "    </tr>\n",
       "    <tr>\n",
       "      <th>230</th>\n",
       "      <td>US</td>\n",
       "      <td>-0.032701</td>\n",
       "    </tr>\n",
       "    <tr>\n",
       "      <th>344</th>\n",
       "      <td>CLASS</td>\n",
       "      <td>-0.047545</td>\n",
       "    </tr>\n",
       "    <tr>\n",
       "      <th>151</th>\n",
       "      <td>GIRL</td>\n",
       "      <td>-0.047838</td>\n",
       "    </tr>\n",
       "    <tr>\n",
       "      <th>281</th>\n",
       "      <td>REDDIT</td>\n",
       "      <td>-0.048870</td>\n",
       "    </tr>\n",
       "    <tr>\n",
       "      <th>270</th>\n",
       "      <td>KINDA</td>\n",
       "      <td>-0.054916</td>\n",
       "    </tr>\n",
       "    <tr>\n",
       "      <th>286</th>\n",
       "      <td>PLAY</td>\n",
       "      <td>-0.059581</td>\n",
       "    </tr>\n",
       "    <tr>\n",
       "      <th>334</th>\n",
       "      <td>GIRLS</td>\n",
       "      <td>-0.064615</td>\n",
       "    </tr>\n",
       "    <tr>\n",
       "      <th>18</th>\n",
       "      <td>YOUR</td>\n",
       "      <td>-0.070825</td>\n",
       "    </tr>\n",
       "    <tr>\n",
       "      <th>298</th>\n",
       "      <td>U</td>\n",
       "      <td>-0.078854</td>\n",
       "    </tr>\n",
       "    <tr>\n",
       "      <th>3</th>\n",
       "      <td>FILLER</td>\n",
       "      <td>-0.100234</td>\n",
       "    </tr>\n",
       "    <tr>\n",
       "      <th>160</th>\n",
       "      <td>GUYS</td>\n",
       "      <td>-0.101048</td>\n",
       "    </tr>\n",
       "  </tbody>\n",
       "</table>\n",
       "</div>"
      ],
      "text/plain": [
       "    Feature  Correlation\n",
       "106   WANNA    -0.029934\n",
       "371   WEIRD    -0.031056\n",
       "246     IDK    -0.032433\n",
       "4        WE    -0.032647\n",
       "230      US    -0.032701\n",
       "344   CLASS    -0.047545\n",
       "151    GIRL    -0.047838\n",
       "281  REDDIT    -0.048870\n",
       "270   KINDA    -0.054916\n",
       "286    PLAY    -0.059581\n",
       "334   GIRLS    -0.064615\n",
       "18     YOUR    -0.070825\n",
       "298       U    -0.078854\n",
       "3    FILLER    -0.100234\n",
       "160    GUYS    -0.101048"
      ]
     },
     "execution_count": 32,
     "metadata": {},
     "output_type": "execute_result"
    }
   ],
   "source": [
    "Correlations.tail(15)"
   ]
  },
  {
   "cell_type": "code",
   "execution_count": 33,
   "metadata": {
    "execution": {
     "iopub.execute_input": "2022-05-20T18:30:24.248369Z",
     "iopub.status.busy": "2022-05-20T18:30:24.247878Z",
     "iopub.status.idle": "2022-05-20T18:30:24.463269Z",
     "shell.execute_reply": "2022-05-20T18:30:24.463688Z",
     "shell.execute_reply.started": "2022-03-07T11:26:16.225792Z"
    },
    "papermill": {
     "duration": 0.289582,
     "end_time": "2022-05-20T18:30:24.463845",
     "exception": false,
     "start_time": "2022-05-20T18:30:24.174263",
     "status": "completed"
    },
    "tags": []
   },
   "outputs": [
    {
     "data": {
      "image/png": "[encoded data removed]",
      "text/plain": [
       "<Figure size 1080x360 with 1 Axes>"
      ]
     },
     "metadata": {
      "needs_background": "light"
     },
     "output_type": "display_data"
    }
   ],
   "source": [
    "temp = Correlations.tail(15)\n",
    "plt.figure(figsize=(15,5))\n",
    "sns.barplot(x=temp.Correlation,y=temp.Feature)\n",
    "plt.title('Feature vs Correlation')\n",
    "plt.show()"
   ]
  },
  {
   "cell_type": "markdown",
   "metadata": {
    "execution": {
     "iopub.execute_input": "2022-05-20T18:30:24.609389Z",
     "iopub.status.busy": "2022-05-20T18:30:24.608789Z",
     "iopub.status.idle": "2022-05-20T18:30:24.610968Z",
     "shell.execute_reply": "2022-05-20T18:30:24.610481Z",
     "shell.execute_reply.started": "2022-03-07T11:26:16.509818Z"
    },
    "papermill": {
     "duration": 0.077156,
     "end_time": "2022-05-20T18:30:24.611110",
     "exception": false,
     "start_time": "2022-05-20T18:30:24.533954",
     "status": "completed"
    },
    "tags": []
   },
   "source": [
    "Here we get the highest negative correlations. "
   ]
  },
  {
   "cell_type": "markdown",
   "metadata": {
    "execution": {
     "iopub.execute_input": "2022-05-20T18:30:24.755429Z",
     "iopub.status.busy": "2022-05-20T18:30:24.754894Z",
     "iopub.status.idle": "2022-05-20T18:30:24.757583Z",
     "shell.execute_reply": "2022-05-20T18:30:24.758009Z",
     "shell.execute_reply.started": "2022-03-07T11:26:16.515881Z"
    },
    "papermill": {
     "duration": 0.076471,
     "end_time": "2022-05-20T18:30:24.758199",
     "exception": false,
     "start_time": "2022-05-20T18:30:24.681728",
     "status": "completed"
    },
    "tags": []
   },
   "source": [
    "# Model building."
   ]
  },
  {
   "cell_type": "markdown",
   "metadata": {
    "execution": {
     "iopub.execute_input": "2022-05-20T18:30:24.908188Z",
     "iopub.status.busy": "2022-05-20T18:30:24.907670Z",
     "iopub.status.idle": "2022-05-20T18:30:24.909960Z",
     "shell.execute_reply": "2022-05-20T18:30:24.910430Z",
     "shell.execute_reply.started": "2022-03-07T11:26:16.529221Z"
    },
    "papermill": {
     "duration": 0.079534,
     "end_time": "2022-05-20T18:30:24.910580",
     "exception": false,
     "start_time": "2022-05-20T18:30:24.831046",
     "status": "completed"
    },
    "tags": []
   },
   "source": [
    "We will have to take a sample of the available data points since there are a lot of data points, more than I have the capacity \n",
    "to handle. \n",
    "We will do this by taking a sample of the data for training and using the rest for prediction. "
   ]
  },
  {
   "cell_type": "markdown",
   "metadata": {
    "execution": {
     "iopub.execute_input": "2022-05-20T18:30:25.057267Z",
     "iopub.status.busy": "2022-05-20T18:30:25.055704Z",
     "iopub.status.idle": "2022-05-20T18:30:25.060379Z",
     "shell.execute_reply": "2022-05-20T18:30:25.060861Z",
     "shell.execute_reply.started": "2022-03-07T11:26:16.542468Z"
    },
    "papermill": {
     "duration": 0.078602,
     "end_time": "2022-05-20T18:30:25.061030",
     "exception": false,
     "start_time": "2022-05-20T18:30:24.982428",
     "status": "completed"
    },
    "tags": []
   },
   "source": [
    "Also since we are mostly interested in the words we will drop the variable 'Length' for now."
   ]
  },
  {
   "cell_type": "code",
   "execution_count": 34,
   "metadata": {
    "execution": {
     "iopub.execute_input": "2022-05-20T18:30:25.208934Z",
     "iopub.status.busy": "2022-05-20T18:30:25.208181Z",
     "iopub.status.idle": "2022-05-20T18:30:25.567907Z",
     "shell.execute_reply": "2022-05-20T18:30:25.567456Z",
     "shell.execute_reply.started": "2022-03-07T11:26:16.555038Z"
    },
    "papermill": {
     "duration": 0.434105,
     "end_time": "2022-05-20T18:30:25.568013",
     "exception": false,
     "start_time": "2022-05-20T18:30:25.133908",
     "status": "completed"
    },
    "tags": []
   },
   "outputs": [],
   "source": [
    "Suicide_Pred = Suicide.drop('Length',axis=1)"
   ]
  },
  {
   "cell_type": "code",
   "execution_count": 35,
   "metadata": {
    "execution": {
     "iopub.execute_input": "2022-05-20T18:30:25.714618Z",
     "iopub.status.busy": "2022-05-20T18:30:25.714057Z",
     "iopub.status.idle": "2022-05-20T18:30:25.719070Z",
     "shell.execute_reply": "2022-05-20T18:30:25.718628Z",
     "shell.execute_reply.started": "2022-03-07T11:26:17.235601Z"
    },
    "papermill": {
     "duration": 0.079872,
     "end_time": "2022-05-20T18:30:25.719204",
     "exception": false,
     "start_time": "2022-05-20T18:30:25.639332",
     "status": "completed"
    },
    "tags": []
   },
   "outputs": [
    {
     "data": {
      "text/plain": [
       "208955"
      ]
     },
     "execution_count": 35,
     "metadata": {},
     "output_type": "execute_result"
    }
   ],
   "source": [
    "len(Suicide_Pred)"
   ]
  },
  {
   "cell_type": "code",
   "execution_count": 36,
   "metadata": {
    "execution": {
     "iopub.execute_input": "2022-05-20T18:30:25.879333Z",
     "iopub.status.busy": "2022-05-20T18:30:25.878649Z",
     "iopub.status.idle": "2022-05-20T18:30:25.881243Z",
     "shell.execute_reply": "2022-05-20T18:30:25.881616Z",
     "shell.execute_reply.started": "2022-03-07T11:26:17.242816Z"
    },
    "papermill": {
     "duration": 0.089268,
     "end_time": "2022-05-20T18:30:25.881744",
     "exception": false,
     "start_time": "2022-05-20T18:30:25.792476",
     "status": "completed"
    },
    "tags": []
   },
   "outputs": [
    {
     "data": {
      "text/html": [
       "<div>\n",
       "<style scoped>\n",
       "    .dataframe tbody tr th:only-of-type {\n",
       "        vertical-align: middle;\n",
       "    }\n",
       "\n",
       "    .dataframe tbody tr th {\n",
       "        vertical-align: top;\n",
       "    }\n",
       "\n",
       "    .dataframe thead th {\n",
       "        text-align: right;\n",
       "    }\n",
       "</style>\n",
       "<table border=\"1\" class=\"dataframe\">\n",
       "  <thead>\n",
       "    <tr style=\"text-align: right;\">\n",
       "      <th></th>\n",
       "      <th>class</th>\n",
       "      <th>SOME</th>\n",
       "      <th>ME.</th>\n",
       "      <th>FILLER</th>\n",
       "      <th>WE</th>\n",
       "      <th>HAS</th>\n",
       "      <th>FUCKING</th>\n",
       "      <th>WHY</th>\n",
       "      <th>BEING</th>\n",
       "      <th>ANY</th>\n",
       "      <th>...</th>\n",
       "      <th>WEIRD</th>\n",
       "      <th>WHAT'S</th>\n",
       "      <th>LONGER</th>\n",
       "      <th>OTHERS</th>\n",
       "      <th>THANK</th>\n",
       "      <th>SUPPOSED</th>\n",
       "      <th>HEAR</th>\n",
       "      <th>FRIENDS.</th>\n",
       "      <th>MOTHER</th>\n",
       "      <th>LOVED</th>\n",
       "    </tr>\n",
       "  </thead>\n",
       "  <tbody>\n",
       "    <tr>\n",
       "      <th>0</th>\n",
       "      <td>1</td>\n",
       "      <td>0</td>\n",
       "      <td>0</td>\n",
       "      <td>0</td>\n",
       "      <td>0</td>\n",
       "      <td>1</td>\n",
       "      <td>0</td>\n",
       "      <td>0</td>\n",
       "      <td>0</td>\n",
       "      <td>0</td>\n",
       "      <td>...</td>\n",
       "      <td>0</td>\n",
       "      <td>0</td>\n",
       "      <td>0</td>\n",
       "      <td>0</td>\n",
       "      <td>0</td>\n",
       "      <td>1</td>\n",
       "      <td>0</td>\n",
       "      <td>0</td>\n",
       "      <td>0</td>\n",
       "      <td>0</td>\n",
       "    </tr>\n",
       "    <tr>\n",
       "      <th>1</th>\n",
       "      <td>0</td>\n",
       "      <td>0</td>\n",
       "      <td>0</td>\n",
       "      <td>0</td>\n",
       "      <td>0</td>\n",
       "      <td>0</td>\n",
       "      <td>0</td>\n",
       "      <td>0</td>\n",
       "      <td>0</td>\n",
       "      <td>0</td>\n",
       "      <td>...</td>\n",
       "      <td>1</td>\n",
       "      <td>0</td>\n",
       "      <td>0</td>\n",
       "      <td>0</td>\n",
       "      <td>0</td>\n",
       "      <td>0</td>\n",
       "      <td>0</td>\n",
       "      <td>0</td>\n",
       "      <td>0</td>\n",
       "      <td>0</td>\n",
       "    </tr>\n",
       "    <tr>\n",
       "      <th>2</th>\n",
       "      <td>0</td>\n",
       "      <td>0</td>\n",
       "      <td>0</td>\n",
       "      <td>0</td>\n",
       "      <td>0</td>\n",
       "      <td>1</td>\n",
       "      <td>1</td>\n",
       "      <td>0</td>\n",
       "      <td>0</td>\n",
       "      <td>0</td>\n",
       "      <td>...</td>\n",
       "      <td>0</td>\n",
       "      <td>0</td>\n",
       "      <td>0</td>\n",
       "      <td>0</td>\n",
       "      <td>0</td>\n",
       "      <td>0</td>\n",
       "      <td>1</td>\n",
       "      <td>0</td>\n",
       "      <td>0</td>\n",
       "      <td>0</td>\n",
       "    </tr>\n",
       "    <tr>\n",
       "      <th>3</th>\n",
       "      <td>1</td>\n",
       "      <td>0</td>\n",
       "      <td>0</td>\n",
       "      <td>0</td>\n",
       "      <td>0</td>\n",
       "      <td>0</td>\n",
       "      <td>0</td>\n",
       "      <td>0</td>\n",
       "      <td>0</td>\n",
       "      <td>0</td>\n",
       "      <td>...</td>\n",
       "      <td>0</td>\n",
       "      <td>0</td>\n",
       "      <td>0</td>\n",
       "      <td>0</td>\n",
       "      <td>0</td>\n",
       "      <td>0</td>\n",
       "      <td>0</td>\n",
       "      <td>0</td>\n",
       "      <td>0</td>\n",
       "      <td>0</td>\n",
       "    </tr>\n",
       "    <tr>\n",
       "      <th>5</th>\n",
       "      <td>1</td>\n",
       "      <td>0</td>\n",
       "      <td>1</td>\n",
       "      <td>0</td>\n",
       "      <td>0</td>\n",
       "      <td>0</td>\n",
       "      <td>0</td>\n",
       "      <td>0</td>\n",
       "      <td>1</td>\n",
       "      <td>0</td>\n",
       "      <td>...</td>\n",
       "      <td>0</td>\n",
       "      <td>0</td>\n",
       "      <td>0</td>\n",
       "      <td>0</td>\n",
       "      <td>0</td>\n",
       "      <td>0</td>\n",
       "      <td>0</td>\n",
       "      <td>0</td>\n",
       "      <td>0</td>\n",
       "      <td>0</td>\n",
       "    </tr>\n",
       "  </tbody>\n",
       "</table>\n",
       "<p>5 rows × 381 columns</p>\n",
       "</div>"
      ],
      "text/plain": [
       "   class  SOME  ME.  FILLER  WE  HAS  FUCKING  WHY  BEING  ANY  ...  WEIRD  \\\n",
       "0      1     0    0       0   0    1        0    0      0    0  ...      0   \n",
       "1      0     0    0       0   0    0        0    0      0    0  ...      1   \n",
       "2      0     0    0       0   0    1        1    0      0    0  ...      0   \n",
       "3      1     0    0       0   0    0        0    0      0    0  ...      0   \n",
       "5      1     0    1       0   0    0        0    0      1    0  ...      0   \n",
       "\n",
       "   WHAT'S  LONGER  OTHERS  THANK  SUPPOSED  HEAR  FRIENDS.  MOTHER  LOVED  \n",
       "0       0       0       0      0         1     0         0       0      0  \n",
       "1       0       0       0      0         0     0         0       0      0  \n",
       "2       0       0       0      0         0     1         0       0      0  \n",
       "3       0       0       0      0         0     0         0       0      0  \n",
       "5       0       0       0      0         0     0         0       0      0  \n",
       "\n",
       "[5 rows x 381 columns]"
      ]
     },
     "execution_count": 36,
     "metadata": {},
     "output_type": "execute_result"
    }
   ],
   "source": [
    "Suicide_Pred.head()"
   ]
  },
  {
   "cell_type": "code",
   "execution_count": 37,
   "metadata": {
    "execution": {
     "iopub.execute_input": "2022-05-20T18:30:26.030031Z",
     "iopub.status.busy": "2022-05-20T18:30:26.028493Z",
     "iopub.status.idle": "2022-05-20T18:30:26.242953Z",
     "shell.execute_reply": "2022-05-20T18:30:26.243364Z",
     "shell.execute_reply.started": "2022-03-07T11:26:17.270093Z"
    },
    "papermill": {
     "duration": 0.290092,
     "end_time": "2022-05-20T18:30:26.243504",
     "exception": false,
     "start_time": "2022-05-20T18:30:25.953412",
     "status": "completed"
    },
    "tags": []
   },
   "outputs": [],
   "source": [
    "from sklearn.model_selection import train_test_split"
   ]
  },
  {
   "cell_type": "code",
   "execution_count": 38,
   "metadata": {
    "execution": {
     "iopub.execute_input": "2022-05-20T18:30:26.579644Z",
     "iopub.status.busy": "2022-05-20T18:30:26.575899Z",
     "iopub.status.idle": "2022-05-20T18:30:27.248417Z",
     "shell.execute_reply": "2022-05-20T18:30:27.247891Z",
     "shell.execute_reply.started": "2022-03-07T11:26:17.327522Z"
    },
    "papermill": {
     "duration": 0.934051,
     "end_time": "2022-05-20T18:30:27.248526",
     "exception": false,
     "start_time": "2022-05-20T18:30:26.314475",
     "status": "completed"
    },
    "tags": []
   },
   "outputs": [
    {
     "data": {
      "text/html": [
       "<div>\n",
       "<style scoped>\n",
       "    .dataframe tbody tr th:only-of-type {\n",
       "        vertical-align: middle;\n",
       "    }\n",
       "\n",
       "    .dataframe tbody tr th {\n",
       "        vertical-align: top;\n",
       "    }\n",
       "\n",
       "    .dataframe thead th {\n",
       "        text-align: right;\n",
       "    }\n",
       "</style>\n",
       "<table border=\"1\" class=\"dataframe\">\n",
       "  <thead>\n",
       "    <tr style=\"text-align: right;\">\n",
       "      <th></th>\n",
       "      <th>SOME</th>\n",
       "      <th>ME.</th>\n",
       "      <th>FILLER</th>\n",
       "      <th>WE</th>\n",
       "      <th>HAS</th>\n",
       "      <th>FUCKING</th>\n",
       "      <th>WHY</th>\n",
       "      <th>BEING</th>\n",
       "      <th>ANY</th>\n",
       "      <th>MORE</th>\n",
       "      <th>...</th>\n",
       "      <th>WEIRD</th>\n",
       "      <th>WHAT'S</th>\n",
       "      <th>LONGER</th>\n",
       "      <th>OTHERS</th>\n",
       "      <th>THANK</th>\n",
       "      <th>SUPPOSED</th>\n",
       "      <th>HEAR</th>\n",
       "      <th>FRIENDS.</th>\n",
       "      <th>MOTHER</th>\n",
       "      <th>LOVED</th>\n",
       "    </tr>\n",
       "  </thead>\n",
       "  <tbody>\n",
       "    <tr>\n",
       "      <th>15131</th>\n",
       "      <td>0</td>\n",
       "      <td>0</td>\n",
       "      <td>0</td>\n",
       "      <td>0</td>\n",
       "      <td>0</td>\n",
       "      <td>0</td>\n",
       "      <td>0</td>\n",
       "      <td>0</td>\n",
       "      <td>0</td>\n",
       "      <td>0</td>\n",
       "      <td>...</td>\n",
       "      <td>0</td>\n",
       "      <td>0</td>\n",
       "      <td>0</td>\n",
       "      <td>0</td>\n",
       "      <td>0</td>\n",
       "      <td>0</td>\n",
       "      <td>0</td>\n",
       "      <td>0</td>\n",
       "      <td>0</td>\n",
       "      <td>0</td>\n",
       "    </tr>\n",
       "    <tr>\n",
       "      <th>153315</th>\n",
       "      <td>1</td>\n",
       "      <td>0</td>\n",
       "      <td>0</td>\n",
       "      <td>1</td>\n",
       "      <td>1</td>\n",
       "      <td>0</td>\n",
       "      <td>0</td>\n",
       "      <td>0</td>\n",
       "      <td>0</td>\n",
       "      <td>1</td>\n",
       "      <td>...</td>\n",
       "      <td>0</td>\n",
       "      <td>0</td>\n",
       "      <td>0</td>\n",
       "      <td>0</td>\n",
       "      <td>0</td>\n",
       "      <td>0</td>\n",
       "      <td>0</td>\n",
       "      <td>0</td>\n",
       "      <td>0</td>\n",
       "      <td>0</td>\n",
       "    </tr>\n",
       "    <tr>\n",
       "      <th>115407</th>\n",
       "      <td>0</td>\n",
       "      <td>0</td>\n",
       "      <td>0</td>\n",
       "      <td>0</td>\n",
       "      <td>0</td>\n",
       "      <td>0</td>\n",
       "      <td>0</td>\n",
       "      <td>0</td>\n",
       "      <td>0</td>\n",
       "      <td>0</td>\n",
       "      <td>...</td>\n",
       "      <td>0</td>\n",
       "      <td>0</td>\n",
       "      <td>0</td>\n",
       "      <td>0</td>\n",
       "      <td>0</td>\n",
       "      <td>0</td>\n",
       "      <td>0</td>\n",
       "      <td>0</td>\n",
       "      <td>0</td>\n",
       "      <td>0</td>\n",
       "    </tr>\n",
       "    <tr>\n",
       "      <th>189274</th>\n",
       "      <td>0</td>\n",
       "      <td>0</td>\n",
       "      <td>0</td>\n",
       "      <td>0</td>\n",
       "      <td>0</td>\n",
       "      <td>0</td>\n",
       "      <td>0</td>\n",
       "      <td>0</td>\n",
       "      <td>0</td>\n",
       "      <td>0</td>\n",
       "      <td>...</td>\n",
       "      <td>0</td>\n",
       "      <td>0</td>\n",
       "      <td>0</td>\n",
       "      <td>0</td>\n",
       "      <td>0</td>\n",
       "      <td>0</td>\n",
       "      <td>0</td>\n",
       "      <td>0</td>\n",
       "      <td>0</td>\n",
       "      <td>0</td>\n",
       "    </tr>\n",
       "    <tr>\n",
       "      <th>85559</th>\n",
       "      <td>1</td>\n",
       "      <td>0</td>\n",
       "      <td>0</td>\n",
       "      <td>0</td>\n",
       "      <td>0</td>\n",
       "      <td>0</td>\n",
       "      <td>0</td>\n",
       "      <td>0</td>\n",
       "      <td>0</td>\n",
       "      <td>0</td>\n",
       "      <td>...</td>\n",
       "      <td>0</td>\n",
       "      <td>0</td>\n",
       "      <td>1</td>\n",
       "      <td>0</td>\n",
       "      <td>0</td>\n",
       "      <td>0</td>\n",
       "      <td>0</td>\n",
       "      <td>0</td>\n",
       "      <td>0</td>\n",
       "      <td>0</td>\n",
       "    </tr>\n",
       "  </tbody>\n",
       "</table>\n",
       "<p>5 rows × 380 columns</p>\n",
       "</div>"
      ],
      "text/plain": [
       "        SOME  ME.  FILLER  WE  HAS  FUCKING  WHY  BEING  ANY  MORE  ...  \\\n",
       "15131      0    0       0   0    0        0    0      0    0     0  ...   \n",
       "153315     1    0       0   1    1        0    0      0    0     1  ...   \n",
       "115407     0    0       0   0    0        0    0      0    0     0  ...   \n",
       "189274     0    0       0   0    0        0    0      0    0     0  ...   \n",
       "85559      1    0       0   0    0        0    0      0    0     0  ...   \n",
       "\n",
       "        WEIRD  WHAT'S  LONGER  OTHERS  THANK  SUPPOSED  HEAR  FRIENDS.  \\\n",
       "15131       0       0       0       0      0         0     0         0   \n",
       "153315      0       0       0       0      0         0     0         0   \n",
       "115407      0       0       0       0      0         0     0         0   \n",
       "189274      0       0       0       0      0         0     0         0   \n",
       "85559       0       0       1       0      0         0     0         0   \n",
       "\n",
       "        MOTHER  LOVED  \n",
       "15131        0      0  \n",
       "153315       0      0  \n",
       "115407       0      0  \n",
       "189274       0      0  \n",
       "85559        0      0  \n",
       "\n",
       "[5 rows x 380 columns]"
      ]
     },
     "execution_count": 38,
     "metadata": {},
     "output_type": "execute_result"
    }
   ],
   "source": [
    "X = Suicide_Pred.drop('class',axis=1)\n",
    "y = Suicide_Pred['class']\n",
    "X_train, X_test, y_train, y_test = train_test_split(X,y,train_size=0.01,random_state=100)\n",
    "X_train.head()"
   ]
  },
  {
   "cell_type": "code",
   "execution_count": 39,
   "metadata": {
    "execution": {
     "iopub.execute_input": "2022-05-20T18:30:27.402328Z",
     "iopub.status.busy": "2022-05-20T18:30:27.401663Z",
     "iopub.status.idle": "2022-05-20T18:30:27.404270Z",
     "shell.execute_reply": "2022-05-20T18:30:27.404642Z",
     "shell.execute_reply.started": "2022-03-07T11:26:18.266964Z"
    },
    "papermill": {
     "duration": 0.082117,
     "end_time": "2022-05-20T18:30:27.404791",
     "exception": false,
     "start_time": "2022-05-20T18:30:27.322674",
     "status": "completed"
    },
    "tags": []
   },
   "outputs": [
    {
     "data": {
      "text/plain": [
       "2089"
      ]
     },
     "execution_count": 39,
     "metadata": {},
     "output_type": "execute_result"
    }
   ],
   "source": [
    "len(X_train)"
   ]
  },
  {
   "cell_type": "markdown",
   "metadata": {
    "execution": {
     "iopub.execute_input": "2022-05-20T18:30:27.555578Z",
     "iopub.status.busy": "2022-05-20T18:30:27.554950Z",
     "iopub.status.idle": "2022-05-20T18:30:27.558160Z",
     "shell.execute_reply": "2022-05-20T18:30:27.557679Z",
     "shell.execute_reply.started": "2022-03-07T11:26:18.277184Z"
    },
    "papermill": {
     "duration": 0.079894,
     "end_time": "2022-05-20T18:30:27.558275",
     "exception": false,
     "start_time": "2022-05-20T18:30:27.478381",
     "status": "completed"
    },
    "tags": []
   },
   "source": [
    "Checking the class distirbution of the train set."
   ]
  },
  {
   "cell_type": "code",
   "execution_count": 40,
   "metadata": {
    "execution": {
     "iopub.execute_input": "2022-05-20T18:30:27.711554Z",
     "iopub.status.busy": "2022-05-20T18:30:27.710941Z",
     "iopub.status.idle": "2022-05-20T18:30:27.715027Z",
     "shell.execute_reply": "2022-05-20T18:30:27.714565Z",
     "shell.execute_reply.started": "2022-03-07T11:26:18.290048Z"
    },
    "papermill": {
     "duration": 0.0845,
     "end_time": "2022-05-20T18:30:27.715151",
     "exception": false,
     "start_time": "2022-05-20T18:30:27.630651",
     "status": "completed"
    },
    "tags": []
   },
   "outputs": [
    {
     "data": {
      "text/plain": [
       "0    1172\n",
       "1     917\n",
       "Name: class, dtype: int64"
      ]
     },
     "execution_count": 40,
     "metadata": {},
     "output_type": "execute_result"
    }
   ],
   "source": [
    "y_train.value_counts()"
   ]
  },
  {
   "cell_type": "code",
   "execution_count": 41,
   "metadata": {
    "execution": {
     "iopub.execute_input": "2022-05-20T18:30:28.019846Z",
     "iopub.status.busy": "2022-05-20T18:30:28.019389Z",
     "iopub.status.idle": "2022-05-20T18:30:28.271345Z",
     "shell.execute_reply": "2022-05-20T18:30:28.270777Z",
     "shell.execute_reply.started": "2022-03-07T11:26:18.323177Z"
    },
    "papermill": {
     "duration": 0.328244,
     "end_time": "2022-05-20T18:30:28.271457",
     "exception": false,
     "start_time": "2022-05-20T18:30:27.943213",
     "status": "completed"
    },
    "tags": []
   },
   "outputs": [],
   "source": [
    "#As we can see we get a balanced data set. \n",
    "from sklearn.ensemble import RandomForestClassifier\n",
    "from sklearn.model_selection import GridSearchCV\n",
    "from sklearn.metrics import accuracy_score, recall_score"
   ]
  },
  {
   "cell_type": "code",
   "execution_count": 42,
   "metadata": {
    "execution": {
     "iopub.execute_input": "2022-05-20T18:30:28.428819Z",
     "iopub.status.busy": "2022-05-20T18:30:28.427676Z",
     "iopub.status.idle": "2022-05-20T18:33:05.042769Z",
     "shell.execute_reply": "2022-05-20T18:33:05.043179Z",
     "shell.execute_reply.started": "2022-03-07T11:26:18.402159Z"
    },
    "papermill": {
     "duration": 156.697204,
     "end_time": "2022-05-20T18:33:05.043332",
     "exception": false,
     "start_time": "2022-05-20T18:30:28.346128",
     "status": "completed"
    },
    "tags": []
   },
   "outputs": [
    {
     "name": "stdout",
     "output_type": "stream",
     "text": [
      "Fitting 5 folds for each of 70 candidates, totalling 350 fits\n"
     ]
    },
    {
     "name": "stderr",
     "output_type": "stream",
     "text": [
      "[Parallel(n_jobs=-1)]: Using backend LokyBackend with 8 concurrent workers.\n",
      "[Parallel(n_jobs=-1)]: Done  34 tasks      | elapsed:   10.9s\n",
      "[Parallel(n_jobs=-1)]: Done 184 tasks      | elapsed:  1.1min\n",
      "[Parallel(n_jobs=-1)]: Done 350 out of 350 | elapsed:  2.2min finished\n"
     ]
    },
    {
     "data": {
      "text/plain": [
       "GridSearchCV(estimator=RandomForestClassifier(n_jobs=-1, random_state=100),\n",
       "             n_jobs=-1,\n",
       "             param_grid={'criterion': ['gini', 'entropy'],\n",
       "                         'max_depth': [3, 5, 10, 12, 15, 17, 20],\n",
       "                         'max_features': [0.1, 0.15, 0.2, 0.25, 0.3],\n",
       "                         'n_estimators': [200]},\n",
       "             scoring='accuracy', verbose=1)"
      ]
     },
     "execution_count": 42,
     "metadata": {},
     "output_type": "execute_result"
    }
   ],
   "source": [
    "Model = RandomForestClassifier(random_state=100,n_jobs=-1)\n",
    "\n",
    "params = {'n_estimators':[200],\n",
    "          'max_depth':[3,5,10,12,15,17,20],\n",
    "          'max_features':[0.1,0.15,0.2,0.25,0.3],\n",
    "          'criterion':['gini','entropy']}\n",
    "\n",
    "grid_search = GridSearchCV(estimator=Model,param_grid=params,verbose=1,n_jobs=-1,scoring='accuracy')\n",
    "grid_search.fit(X_train,y_train)"
   ]
  },
  {
   "cell_type": "code",
   "execution_count": 43,
   "metadata": {
    "execution": {
     "iopub.execute_input": "2022-05-20T18:33:05.198873Z",
     "iopub.status.busy": "2022-05-20T18:33:05.198071Z",
     "iopub.status.idle": "2022-05-20T18:33:05.201868Z",
     "shell.execute_reply": "2022-05-20T18:33:05.201426Z",
     "shell.execute_reply.started": "2022-03-07T11:29:18.991558Z"
    },
    "papermill": {
     "duration": 0.084157,
     "end_time": "2022-05-20T18:33:05.201997",
     "exception": false,
     "start_time": "2022-05-20T18:33:05.117840",
     "status": "completed"
    },
    "tags": []
   },
   "outputs": [],
   "source": [
    "Model_best = grid_search.best_estimator_"
   ]
  },
  {
   "cell_type": "code",
   "execution_count": 44,
   "metadata": {
    "execution": {
     "iopub.execute_input": "2022-05-20T18:33:05.356228Z",
     "iopub.status.busy": "2022-05-20T18:33:05.355662Z",
     "iopub.status.idle": "2022-05-20T18:33:08.038500Z",
     "shell.execute_reply": "2022-05-20T18:33:08.038047Z",
     "shell.execute_reply.started": "2022-03-07T11:29:18.998065Z"
    },
    "papermill": {
     "duration": 2.761185,
     "end_time": "2022-05-20T18:33:08.038620",
     "exception": false,
     "start_time": "2022-05-20T18:33:05.277435",
     "status": "completed"
    },
    "tags": []
   },
   "outputs": [
    {
     "name": "stdout",
     "output_type": "stream",
     "text": [
      "Train accuracy score : 0.9305887984681666\n",
      "Test accuracy score : 0.8374841684955479\n",
      "Train recall score : 0.8451472191930207\n",
      "Test recall score : 0.767300992258898\n"
     ]
    }
   ],
   "source": [
    "y_train_pred = Model_best.predict(X_train)\n",
    "y_test_pred = Model_best.predict(X_test)\n",
    "\n",
    "print('Train accuracy score :',accuracy_score(y_train,y_train_pred))\n",
    "print('Test accuracy score :',accuracy_score(y_test,y_test_pred))\n",
    "print('Train recall score :',recall_score(y_train,y_train_pred))\n",
    "print('Test recall score :',recall_score(y_test,y_test_pred))"
   ]
  },
  {
   "cell_type": "code",
   "execution_count": 45,
   "metadata": {
    "execution": {
     "iopub.execute_input": "2022-05-20T18:33:08.198400Z",
     "iopub.status.busy": "2022-05-20T18:33:08.197741Z",
     "iopub.status.idle": "2022-05-20T18:33:08.309265Z",
     "shell.execute_reply": "2022-05-20T18:33:08.309695Z",
     "shell.execute_reply.started": "2022-03-07T11:29:21.888769Z"
    },
    "papermill": {
     "duration": 0.194324,
     "end_time": "2022-05-20T18:33:08.309849",
     "exception": false,
     "start_time": "2022-05-20T18:33:08.115525",
     "status": "completed"
    },
    "tags": []
   },
   "outputs": [
    {
     "data": {
      "text/html": [
       "<div>\n",
       "<style scoped>\n",
       "    .dataframe tbody tr th:only-of-type {\n",
       "        vertical-align: middle;\n",
       "    }\n",
       "\n",
       "    .dataframe tbody tr th {\n",
       "        vertical-align: top;\n",
       "    }\n",
       "\n",
       "    .dataframe thead th {\n",
       "        text-align: right;\n",
       "    }\n",
       "</style>\n",
       "<table border=\"1\" class=\"dataframe\">\n",
       "  <thead>\n",
       "    <tr style=\"text-align: right;\">\n",
       "      <th></th>\n",
       "      <th>Importance</th>\n",
       "    </tr>\n",
       "    <tr>\n",
       "      <th>Feature</th>\n",
       "      <th></th>\n",
       "    </tr>\n",
       "  </thead>\n",
       "  <tbody>\n",
       "    <tr>\n",
       "      <th>SUICIDE</th>\n",
       "      <td>0.066679</td>\n",
       "    </tr>\n",
       "    <tr>\n",
       "      <th>KILL</th>\n",
       "      <td>0.063625</td>\n",
       "    </tr>\n",
       "    <tr>\n",
       "      <th>ME.</th>\n",
       "      <td>0.042326</td>\n",
       "    </tr>\n",
       "    <tr>\n",
       "      <th>END</th>\n",
       "      <td>0.033182</td>\n",
       "    </tr>\n",
       "    <tr>\n",
       "      <th>SUICIDAL</th>\n",
       "      <td>0.026878</td>\n",
       "    </tr>\n",
       "  </tbody>\n",
       "</table>\n",
       "</div>"
      ],
      "text/plain": [
       "          Importance\n",
       "Feature             \n",
       "SUICIDE     0.066679\n",
       "KILL        0.063625\n",
       "ME.         0.042326\n",
       "END         0.033182\n",
       "SUICIDAL    0.026878"
      ]
     },
     "execution_count": 45,
     "metadata": {},
     "output_type": "execute_result"
    }
   ],
   "source": [
    "Feature_Importance = pd.DataFrame({'Feature':X_train.columns,'Importance':Model_best.feature_importances_})\n",
    "Feature_Importance.sort_values(by='Importance',ascending=False,inplace=True)\n",
    "Feature_Importance.set_index('Feature',inplace=True)\n",
    "Feature_Importance.head()"
   ]
  },
  {
   "cell_type": "code",
   "execution_count": 46,
   "metadata": {
    "execution": {
     "iopub.execute_input": "2022-05-20T18:33:08.493948Z",
     "iopub.status.busy": "2022-05-20T18:33:08.493419Z",
     "iopub.status.idle": "2022-05-20T18:33:08.732206Z",
     "shell.execute_reply": "2022-05-20T18:33:08.731364Z",
     "shell.execute_reply.started": "2022-03-07T11:29:22.01035Z"
    },
    "papermill": {
     "duration": 0.344573,
     "end_time": "2022-05-20T18:33:08.732328",
     "exception": false,
     "start_time": "2022-05-20T18:33:08.387755",
     "status": "completed"
    },
    "tags": []
   },
   "outputs": [
    {
     "data": {
      "image/png": "[encoded data removed]",
      "text/plain": [
       "<Figure size 1080x360 with 1 Axes>"
      ]
     },
     "metadata": {
      "needs_background": "light"
     },
     "output_type": "display_data"
    }
   ],
   "source": [
    "temp = Feature_Importance.head(20)\n",
    "plt.figure(figsize=(15,5))\n",
    "sns.barplot(x=temp.Importance,y=temp.index)\n",
    "plt.title('Features vs Importances')\n",
    "plt.show()"
   ]
  },
  {
   "cell_type": "markdown",
   "metadata": {
    "execution": {
     "iopub.execute_input": "2022-05-20T18:33:08.893575Z",
     "iopub.status.busy": "2022-05-20T18:33:08.893030Z",
     "iopub.status.idle": "2022-05-20T18:33:08.895232Z",
     "shell.execute_reply": "2022-05-20T18:33:08.895628Z",
     "shell.execute_reply.started": "2022-03-07T11:29:22.370397Z"
    },
    "papermill": {
     "duration": 0.084626,
     "end_time": "2022-05-20T18:33:08.895774",
     "exception": false,
     "start_time": "2022-05-20T18:33:08.811148",
     "status": "completed"
    },
    "tags": []
   },
   "source": [
    "We can also obtain the words/variables with the lowest importances"
   ]
  },
  {
   "cell_type": "code",
   "execution_count": 47,
   "metadata": {
    "execution": {
     "iopub.execute_input": "2022-05-20T18:33:09.080867Z",
     "iopub.status.busy": "2022-05-20T18:33:09.067990Z",
     "iopub.status.idle": "2022-05-20T18:33:09.326288Z",
     "shell.execute_reply": "2022-05-20T18:33:09.325767Z",
     "shell.execute_reply.started": "2022-03-07T11:29:22.375985Z"
    },
    "papermill": {
     "duration": 0.352431,
     "end_time": "2022-05-20T18:33:09.326413",
     "exception": false,
     "start_time": "2022-05-20T18:33:08.973982",
     "status": "completed"
    },
    "tags": []
   },
   "outputs": [
    {
     "name": "stderr",
     "output_type": "stream",
     "text": [
      "C:\\Users\\Harshit\\anaconda3\\lib\\site-packages\\matplotlib\\backends\\backend_agg.py:214: RuntimeWarning: Glyph 12644 missing from current font.\n",
      "  font.set_text(s, 0.0, flags=flags)\n",
      "C:\\Users\\Harshit\\anaconda3\\lib\\site-packages\\matplotlib\\backends\\backend_agg.py:183: RuntimeWarning: Glyph 12644 missing from current font.\n",
      "  font.set_text(s, 0, flags=flags)\n"
     ]
    },
    {
     "data": {
      "image/png": "[encoded data removed]",
      "text/plain": [
       "<Figure size 1080x360 with 1 Axes>"
      ]
     },
     "metadata": {
      "needs_background": "light"
     },
     "output_type": "display_data"
    }
   ],
   "source": [
    "temp = Feature_Importance.tail(20)\n",
    "plt.figure(figsize=(15,5))\n",
    "sns.barplot(x=temp.Importance,y=temp.index)\n",
    "plt.title('Features vs Importances')\n",
    "plt.show()"
   ]
  },
  {
   "cell_type": "code",
   "execution_count": 48,
   "metadata": {
    "execution": {
     "iopub.execute_input": "2022-05-20T18:33:09.490627Z",
     "iopub.status.busy": "2022-05-20T18:33:09.489954Z",
     "iopub.status.idle": "2022-05-20T18:33:09.492938Z",
     "shell.execute_reply": "2022-05-20T18:33:09.492374Z",
     "shell.execute_reply.started": "2022-03-07T11:29:22.725343Z"
    },
    "papermill": {
     "duration": 0.088063,
     "end_time": "2022-05-20T18:33:09.493052",
     "exception": false,
     "start_time": "2022-05-20T18:33:09.404989",
     "status": "completed"
    },
    "tags": []
   },
   "outputs": [],
   "source": [
    "#As we can see the model overfits the data slightly. However relative to the amount of data used for training and testing the \n",
    "#model has performed well. We can improve the scores by further HP tuning. "
   ]
  },
  {
   "cell_type": "code",
   "execution_count": 49,
   "metadata": {
    "execution": {
     "iopub.execute_input": "2022-05-20T18:33:09.655413Z",
     "iopub.status.busy": "2022-05-20T18:33:09.654716Z",
     "iopub.status.idle": "2022-05-20T18:33:09.657791Z",
     "shell.execute_reply": "2022-05-20T18:33:09.657347Z",
     "shell.execute_reply.started": "2022-03-07T11:29:22.731307Z"
    },
    "papermill": {
     "duration": 0.084731,
     "end_time": "2022-05-20T18:33:09.657920",
     "exception": false,
     "start_time": "2022-05-20T18:33:09.573189",
     "status": "completed"
    },
    "tags": []
   },
   "outputs": [],
   "source": [
    "#Now we will include the Length variable as well in our model. "
   ]
  },
  {
   "cell_type": "code",
   "execution_count": 50,
   "metadata": {
    "execution": {
     "iopub.execute_input": "2022-05-20T18:33:09.928684Z",
     "iopub.status.busy": "2022-05-20T18:33:09.815636Z",
     "iopub.status.idle": "2022-05-20T18:33:10.431619Z",
     "shell.execute_reply": "2022-05-20T18:33:10.432278Z",
     "shell.execute_reply.started": "2022-03-07T11:29:22.746253Z"
    },
    "papermill": {
     "duration": 0.697802,
     "end_time": "2022-05-20T18:33:10.432454",
     "exception": false,
     "start_time": "2022-05-20T18:33:09.734652",
     "status": "completed"
    },
    "tags": []
   },
   "outputs": [
    {
     "data": {
      "text/html": [
       "<div>\n",
       "<style scoped>\n",
       "    .dataframe tbody tr th:only-of-type {\n",
       "        vertical-align: middle;\n",
       "    }\n",
       "\n",
       "    .dataframe tbody tr th {\n",
       "        vertical-align: top;\n",
       "    }\n",
       "\n",
       "    .dataframe thead th {\n",
       "        text-align: right;\n",
       "    }\n",
       "</style>\n",
       "<table border=\"1\" class=\"dataframe\">\n",
       "  <thead>\n",
       "    <tr style=\"text-align: right;\">\n",
       "      <th></th>\n",
       "      <th>Length</th>\n",
       "      <th>SOME</th>\n",
       "      <th>ME.</th>\n",
       "      <th>FILLER</th>\n",
       "      <th>WE</th>\n",
       "      <th>HAS</th>\n",
       "      <th>FUCKING</th>\n",
       "      <th>WHY</th>\n",
       "      <th>BEING</th>\n",
       "      <th>ANY</th>\n",
       "      <th>...</th>\n",
       "      <th>WEIRD</th>\n",
       "      <th>WHAT'S</th>\n",
       "      <th>LONGER</th>\n",
       "      <th>OTHERS</th>\n",
       "      <th>THANK</th>\n",
       "      <th>SUPPOSED</th>\n",
       "      <th>HEAR</th>\n",
       "      <th>FRIENDS.</th>\n",
       "      <th>MOTHER</th>\n",
       "      <th>LOVED</th>\n",
       "    </tr>\n",
       "  </thead>\n",
       "  <tbody>\n",
       "    <tr>\n",
       "      <th>15131</th>\n",
       "      <td>29</td>\n",
       "      <td>0</td>\n",
       "      <td>0</td>\n",
       "      <td>0</td>\n",
       "      <td>0</td>\n",
       "      <td>0</td>\n",
       "      <td>0</td>\n",
       "      <td>0</td>\n",
       "      <td>0</td>\n",
       "      <td>0</td>\n",
       "      <td>...</td>\n",
       "      <td>0</td>\n",
       "      <td>0</td>\n",
       "      <td>0</td>\n",
       "      <td>0</td>\n",
       "      <td>0</td>\n",
       "      <td>0</td>\n",
       "      <td>0</td>\n",
       "      <td>0</td>\n",
       "      <td>0</td>\n",
       "      <td>0</td>\n",
       "    </tr>\n",
       "    <tr>\n",
       "      <th>153315</th>\n",
       "      <td>274</td>\n",
       "      <td>1</td>\n",
       "      <td>0</td>\n",
       "      <td>0</td>\n",
       "      <td>1</td>\n",
       "      <td>1</td>\n",
       "      <td>0</td>\n",
       "      <td>0</td>\n",
       "      <td>0</td>\n",
       "      <td>0</td>\n",
       "      <td>...</td>\n",
       "      <td>0</td>\n",
       "      <td>0</td>\n",
       "      <td>0</td>\n",
       "      <td>0</td>\n",
       "      <td>0</td>\n",
       "      <td>0</td>\n",
       "      <td>0</td>\n",
       "      <td>0</td>\n",
       "      <td>0</td>\n",
       "      <td>0</td>\n",
       "    </tr>\n",
       "    <tr>\n",
       "      <th>115407</th>\n",
       "      <td>35</td>\n",
       "      <td>0</td>\n",
       "      <td>0</td>\n",
       "      <td>0</td>\n",
       "      <td>0</td>\n",
       "      <td>0</td>\n",
       "      <td>0</td>\n",
       "      <td>0</td>\n",
       "      <td>0</td>\n",
       "      <td>0</td>\n",
       "      <td>...</td>\n",
       "      <td>0</td>\n",
       "      <td>0</td>\n",
       "      <td>0</td>\n",
       "      <td>0</td>\n",
       "      <td>0</td>\n",
       "      <td>0</td>\n",
       "      <td>0</td>\n",
       "      <td>0</td>\n",
       "      <td>0</td>\n",
       "      <td>0</td>\n",
       "    </tr>\n",
       "    <tr>\n",
       "      <th>189274</th>\n",
       "      <td>19</td>\n",
       "      <td>0</td>\n",
       "      <td>0</td>\n",
       "      <td>0</td>\n",
       "      <td>0</td>\n",
       "      <td>0</td>\n",
       "      <td>0</td>\n",
       "      <td>0</td>\n",
       "      <td>0</td>\n",
       "      <td>0</td>\n",
       "      <td>...</td>\n",
       "      <td>0</td>\n",
       "      <td>0</td>\n",
       "      <td>0</td>\n",
       "      <td>0</td>\n",
       "      <td>0</td>\n",
       "      <td>0</td>\n",
       "      <td>0</td>\n",
       "      <td>0</td>\n",
       "      <td>0</td>\n",
       "      <td>0</td>\n",
       "    </tr>\n",
       "    <tr>\n",
       "      <th>85559</th>\n",
       "      <td>37</td>\n",
       "      <td>1</td>\n",
       "      <td>0</td>\n",
       "      <td>0</td>\n",
       "      <td>0</td>\n",
       "      <td>0</td>\n",
       "      <td>0</td>\n",
       "      <td>0</td>\n",
       "      <td>0</td>\n",
       "      <td>0</td>\n",
       "      <td>...</td>\n",
       "      <td>0</td>\n",
       "      <td>0</td>\n",
       "      <td>1</td>\n",
       "      <td>0</td>\n",
       "      <td>0</td>\n",
       "      <td>0</td>\n",
       "      <td>0</td>\n",
       "      <td>0</td>\n",
       "      <td>0</td>\n",
       "      <td>0</td>\n",
       "    </tr>\n",
       "  </tbody>\n",
       "</table>\n",
       "<p>5 rows × 381 columns</p>\n",
       "</div>"
      ],
      "text/plain": [
       "        Length  SOME  ME.  FILLER  WE  HAS  FUCKING  WHY  BEING  ANY  ...  \\\n",
       "15131       29     0    0       0   0    0        0    0      0    0  ...   \n",
       "153315     274     1    0       0   1    1        0    0      0    0  ...   \n",
       "115407      35     0    0       0   0    0        0    0      0    0  ...   \n",
       "189274      19     0    0       0   0    0        0    0      0    0  ...   \n",
       "85559       37     1    0       0   0    0        0    0      0    0  ...   \n",
       "\n",
       "        WEIRD  WHAT'S  LONGER  OTHERS  THANK  SUPPOSED  HEAR  FRIENDS.  \\\n",
       "15131       0       0       0       0      0         0     0         0   \n",
       "153315      0       0       0       0      0         0     0         0   \n",
       "115407      0       0       0       0      0         0     0         0   \n",
       "189274      0       0       0       0      0         0     0         0   \n",
       "85559       0       0       1       0      0         0     0         0   \n",
       "\n",
       "        MOTHER  LOVED  \n",
       "15131        0      0  \n",
       "153315       0      0  \n",
       "115407       0      0  \n",
       "189274       0      0  \n",
       "85559        0      0  \n",
       "\n",
       "[5 rows x 381 columns]"
      ]
     },
     "execution_count": 50,
     "metadata": {},
     "output_type": "execute_result"
    }
   ],
   "source": [
    "X = Suicide.drop('class',axis=1)\n",
    "y = Suicide['class']\n",
    "X_train, X_test, y_train, y_test = train_test_split(X,y,train_size=0.01,random_state=100)\n",
    "X_train.head()"
   ]
  },
  {
   "cell_type": "code",
   "execution_count": 51,
   "metadata": {
    "execution": {
     "iopub.execute_input": "2022-05-20T18:33:10.627594Z",
     "iopub.status.busy": "2022-05-20T18:33:10.624979Z",
     "iopub.status.idle": "2022-05-20T18:33:10.629721Z",
     "shell.execute_reply": "2022-05-20T18:33:10.630194Z",
     "shell.execute_reply.started": "2022-03-07T11:29:23.629194Z"
    },
    "papermill": {
     "duration": 0.08341,
     "end_time": "2022-05-20T18:33:10.630378",
     "exception": false,
     "start_time": "2022-05-20T18:33:10.546968",
     "status": "completed"
    },
    "tags": []
   },
   "outputs": [],
   "source": [
    "from sklearn.ensemble import RandomForestClassifier\n",
    "from sklearn.model_selection import GridSearchCV\n",
    "from sklearn.metrics import accuracy_score, recall_score"
   ]
  },
  {
   "cell_type": "code",
   "execution_count": 52,
   "metadata": {
    "execution": {
     "iopub.execute_input": "2022-05-20T18:33:10.795508Z",
     "iopub.status.busy": "2022-05-20T18:33:10.790705Z",
     "iopub.status.idle": "2022-05-20T18:35:46.596203Z",
     "shell.execute_reply": "2022-05-20T18:35:46.596590Z",
     "shell.execute_reply.started": "2022-03-07T11:29:23.63572Z"
    },
    "papermill": {
     "duration": 155.887179,
     "end_time": "2022-05-20T18:35:46.596719",
     "exception": false,
     "start_time": "2022-05-20T18:33:10.709540",
     "status": "completed"
    },
    "tags": []
   },
   "outputs": [
    {
     "name": "stdout",
     "output_type": "stream",
     "text": [
      "Fitting 5 folds for each of 70 candidates, totalling 350 fits\n"
     ]
    },
    {
     "name": "stderr",
     "output_type": "stream",
     "text": [
      "[Parallel(n_jobs=-1)]: Using backend LokyBackend with 8 concurrent workers.\n",
      "[Parallel(n_jobs=-1)]: Done  34 tasks      | elapsed:    8.2s\n",
      "[Parallel(n_jobs=-1)]: Done 184 tasks      | elapsed:  1.1min\n",
      "[Parallel(n_jobs=-1)]: Done 350 out of 350 | elapsed:  2.1min finished\n"
     ]
    },
    {
     "data": {
      "text/plain": [
       "GridSearchCV(estimator=RandomForestClassifier(n_jobs=-1, random_state=100),\n",
       "             n_jobs=-1,\n",
       "             param_grid={'criterion': ['gini', 'entropy'],\n",
       "                         'max_depth': [3, 5, 10, 12, 15, 17, 20],\n",
       "                         'max_features': [0.1, 0.15, 0.2, 0.25, 0.3],\n",
       "                         'n_estimators': [200]},\n",
       "             scoring='accuracy', verbose=1)"
      ]
     },
     "execution_count": 52,
     "metadata": {},
     "output_type": "execute_result"
    }
   ],
   "source": [
    "Model = RandomForestClassifier(random_state=100,n_jobs=-1)\n",
    "\n",
    "params = {'n_estimators':[200],\n",
    "          'max_depth':[3,5,10,12,15,17,20],\n",
    "          'max_features':[0.1,0.15,0.2,0.25,0.3],\n",
    "          'criterion':['gini','entropy']}\n",
    "\n",
    "grid_search = GridSearchCV(estimator=Model,param_grid=params,verbose=1,n_jobs=-1,scoring='accuracy')\n",
    "grid_search.fit(X_train,y_train)"
   ]
  },
  {
   "cell_type": "code",
   "execution_count": 53,
   "metadata": {
    "execution": {
     "iopub.execute_input": "2022-05-20T18:35:46.755980Z",
     "iopub.status.busy": "2022-05-20T18:35:46.755289Z",
     "iopub.status.idle": "2022-05-20T18:35:46.757771Z",
     "shell.execute_reply": "2022-05-20T18:35:46.758355Z",
     "shell.execute_reply.started": "2022-03-07T11:32:26.334691Z"
    },
    "papermill": {
     "duration": 0.085261,
     "end_time": "2022-05-20T18:35:46.758501",
     "exception": false,
     "start_time": "2022-05-20T18:35:46.673240",
     "status": "completed"
    },
    "tags": []
   },
   "outputs": [],
   "source": [
    "Model_best = grid_search.best_estimator_"
   ]
  },
  {
   "cell_type": "code",
   "execution_count": 54,
   "metadata": {
    "execution": {
     "iopub.execute_input": "2022-05-20T18:35:46.921127Z",
     "iopub.status.busy": "2022-05-20T18:35:46.920460Z",
     "iopub.status.idle": "2022-05-20T18:35:49.287882Z",
     "shell.execute_reply": "2022-05-20T18:35:49.287269Z",
     "shell.execute_reply.started": "2022-03-07T11:32:26.341121Z"
    },
    "papermill": {
     "duration": 2.449305,
     "end_time": "2022-05-20T18:35:49.288019",
     "exception": false,
     "start_time": "2022-05-20T18:35:46.838714",
     "status": "completed"
    },
    "tags": []
   },
   "outputs": [
    {
     "name": "stdout",
     "output_type": "stream",
     "text": [
      "Train accuracy score : 0.9377692675921494\n",
      "Test accuracy score : 0.8369185849777151\n",
      "Train recall score : 0.8582333696837514\n",
      "Test recall score : 0.7758680941639927\n"
     ]
    }
   ],
   "source": [
    "y_train_pred = Model_best.predict(X_train)\n",
    "y_test_pred = Model_best.predict(X_test)\n",
    "\n",
    "print('Train accuracy score :',accuracy_score(y_train,y_train_pred))\n",
    "print('Test accuracy score :',accuracy_score(y_test,y_test_pred))\n",
    "print('Train recall score :',recall_score(y_train,y_train_pred))\n",
    "print('Test recall score :',recall_score(y_test,y_test_pred))"
   ]
  },
  {
   "cell_type": "code",
   "execution_count": 55,
   "metadata": {
    "execution": {
     "iopub.execute_input": "2022-05-20T18:35:49.535417Z",
     "iopub.status.busy": "2022-05-20T18:35:49.534742Z",
     "iopub.status.idle": "2022-05-20T18:35:49.647386Z",
     "shell.execute_reply": "2022-05-20T18:35:49.646493Z",
     "shell.execute_reply.started": "2022-03-07T11:32:29.108587Z"
    },
    "papermill": {
     "duration": 0.238031,
     "end_time": "2022-05-20T18:35:49.647495",
     "exception": false,
     "start_time": "2022-05-20T18:35:49.409464",
     "status": "completed"
    },
    "tags": []
   },
   "outputs": [
    {
     "data": {
      "text/html": [
       "<div>\n",
       "<style scoped>\n",
       "    .dataframe tbody tr th:only-of-type {\n",
       "        vertical-align: middle;\n",
       "    }\n",
       "\n",
       "    .dataframe tbody tr th {\n",
       "        vertical-align: top;\n",
       "    }\n",
       "\n",
       "    .dataframe thead th {\n",
       "        text-align: right;\n",
       "    }\n",
       "</style>\n",
       "<table border=\"1\" class=\"dataframe\">\n",
       "  <thead>\n",
       "    <tr style=\"text-align: right;\">\n",
       "      <th></th>\n",
       "      <th>Importance</th>\n",
       "    </tr>\n",
       "    <tr>\n",
       "      <th>Feature</th>\n",
       "      <th></th>\n",
       "    </tr>\n",
       "  </thead>\n",
       "  <tbody>\n",
       "    <tr>\n",
       "      <th>Length</th>\n",
       "      <td>0.198716</td>\n",
       "    </tr>\n",
       "    <tr>\n",
       "      <th>SUICIDE</th>\n",
       "      <td>0.069252</td>\n",
       "    </tr>\n",
       "    <tr>\n",
       "      <th>KILL</th>\n",
       "      <td>0.060520</td>\n",
       "    </tr>\n",
       "    <tr>\n",
       "      <th>ME.</th>\n",
       "      <td>0.041317</td>\n",
       "    </tr>\n",
       "    <tr>\n",
       "      <th>END</th>\n",
       "      <td>0.027419</td>\n",
       "    </tr>\n",
       "  </tbody>\n",
       "</table>\n",
       "</div>"
      ],
      "text/plain": [
       "         Importance\n",
       "Feature            \n",
       "Length     0.198716\n",
       "SUICIDE    0.069252\n",
       "KILL       0.060520\n",
       "ME.        0.041317\n",
       "END        0.027419"
      ]
     },
     "execution_count": 55,
     "metadata": {},
     "output_type": "execute_result"
    }
   ],
   "source": [
    "Feature_Importance = pd.DataFrame({'Feature':X_train.columns,'Importance':Model_best.feature_importances_})\n",
    "Feature_Importance.sort_values(by='Importance',ascending=False,inplace=True)\n",
    "Feature_Importance.set_index('Feature',inplace=True)\n",
    "Feature_Importance.head()"
   ]
  },
  {
   "cell_type": "code",
   "execution_count": 56,
   "metadata": {
    "execution": {
     "iopub.execute_input": "2022-05-20T18:35:49.809046Z",
     "iopub.status.busy": "2022-05-20T18:35:49.808561Z",
     "iopub.status.idle": "2022-05-20T18:35:50.056459Z",
     "shell.execute_reply": "2022-05-20T18:35:50.056877Z",
     "shell.execute_reply.started": "2022-03-07T11:32:29.227309Z"
    },
    "papermill": {
     "duration": 0.330889,
     "end_time": "2022-05-20T18:35:50.057007",
     "exception": false,
     "start_time": "2022-05-20T18:35:49.726118",
     "status": "completed"
    },
    "tags": []
   },
   "outputs": [
    {
     "data": {
      "image/png": "[encoded data removed]",
      "text/plain": [
       "<Figure size 1080x360 with 1 Axes>"
      ]
     },
     "metadata": {
      "needs_background": "light"
     },
     "output_type": "display_data"
    }
   ],
   "source": [
    "temp = Feature_Importance.head(20)\n",
    "plt.figure(figsize=(15,5))\n",
    "sns.barplot(x=temp.Importance,y=temp.index)\n",
    "plt.title('Features vs Importances')\n",
    "plt.show()"
   ]
  },
  {
   "cell_type": "code",
   "execution_count": 57,
   "metadata": {
    "execution": {
     "iopub.execute_input": "2022-05-20T18:35:50.218794Z",
     "iopub.status.busy": "2022-05-20T18:35:50.218343Z",
     "iopub.status.idle": "2022-05-20T18:35:50.489915Z",
     "shell.execute_reply": "2022-05-20T18:35:50.489462Z",
     "shell.execute_reply.started": "2022-03-07T11:32:29.593044Z"
    },
    "papermill": {
     "duration": 0.352976,
     "end_time": "2022-05-20T18:35:50.490016",
     "exception": false,
     "start_time": "2022-05-20T18:35:50.137040",
     "status": "completed"
    },
    "tags": []
   },
   "outputs": [
    {
     "name": "stderr",
     "output_type": "stream",
     "text": [
      "C:\\Users\\Harshit\\anaconda3\\lib\\site-packages\\matplotlib\\backends\\backend_agg.py:214: RuntimeWarning: Glyph 12644 missing from current font.\n",
      "  font.set_text(s, 0.0, flags=flags)\n",
      "C:\\Users\\Harshit\\anaconda3\\lib\\site-packages\\matplotlib\\backends\\backend_agg.py:183: RuntimeWarning: Glyph 12644 missing from current font.\n",
      "  font.set_text(s, 0, flags=flags)\n"
     ]
    },
    {
     "data": {
      "image/png": "[encoded data removed]",
      "text/plain": [
       "<Figure size 1080x360 with 1 Axes>"
      ]
     },
     "metadata": {
      "needs_background": "light"
     },
     "output_type": "display_data"
    }
   ],
   "source": [
    "temp = Feature_Importance.tail(20)\n",
    "plt.figure(figsize=(15,5))\n",
    "sns.barplot(x=temp.Importance,y=temp.index)\n",
    "plt.title('Features vs Importances')\n",
    "plt.show()"
   ]
  },
  {
   "cell_type": "code",
   "execution_count": 111,
   "metadata": {},
   "outputs": [],
   "source": [
    "#Saving the Model to Disk\n",
    "import pickle\n",
    "filename = \"finalized_model1.sav\"\n",
    "pickle.dump(Model, open(filename, 'wb'))"
   ]
  },
  {
   "cell_type": "code",
   "execution_count": 112,
   "metadata": {},
   "outputs": [],
   "source": [
    "tweet = \"Hey... I am Feeling very Good and Joy\""
   ]
  },
  {
   "cell_type": "code",
   "execution_count": 113,
   "metadata": {},
   "outputs": [],
   "source": [
    "df = pd.DataFrame(columns = Final_Words, index=['a'])\n",
    "for i in Final_Words:\n",
    "    if i in tweet.upper().split(' '):\n",
    "        df.loc['a', i]=1\n",
    "    else:\n",
    "        df.loc['a', i]=0"
   ]
  },
  {
   "cell_type": "code",
   "execution_count": 114,
   "metadata": {},
   "outputs": [
    {
     "data": {
      "text/html": [
       "<div>\n",
       "<style scoped>\n",
       "    .dataframe tbody tr th:only-of-type {\n",
       "        vertical-align: middle;\n",
       "    }\n",
       "\n",
       "    .dataframe tbody tr th {\n",
       "        vertical-align: top;\n",
       "    }\n",
       "\n",
       "    .dataframe thead th {\n",
       "        text-align: right;\n",
       "    }\n",
       "</style>\n",
       "<table border=\"1\" class=\"dataframe\">\n",
       "  <thead>\n",
       "    <tr style=\"text-align: right;\">\n",
       "      <th></th>\n",
       "      <th>SOME</th>\n",
       "      <th>ME.</th>\n",
       "      <th>FILLER</th>\n",
       "      <th>WE</th>\n",
       "      <th>HAS</th>\n",
       "      <th>FUCKING</th>\n",
       "      <th>WHY</th>\n",
       "      <th>BEING</th>\n",
       "      <th>ANY</th>\n",
       "      <th>MORE</th>\n",
       "      <th>...</th>\n",
       "      <th>WEIRD</th>\n",
       "      <th>WHAT'S</th>\n",
       "      <th>LONGER</th>\n",
       "      <th>OTHERS</th>\n",
       "      <th>THANK</th>\n",
       "      <th>SUPPOSED</th>\n",
       "      <th>HEAR</th>\n",
       "      <th>FRIENDS.</th>\n",
       "      <th>MOTHER</th>\n",
       "      <th>LOVED</th>\n",
       "    </tr>\n",
       "  </thead>\n",
       "  <tbody>\n",
       "    <tr>\n",
       "      <th>a</th>\n",
       "      <td>0</td>\n",
       "      <td>0</td>\n",
       "      <td>0</td>\n",
       "      <td>0</td>\n",
       "      <td>0</td>\n",
       "      <td>0</td>\n",
       "      <td>0</td>\n",
       "      <td>0</td>\n",
       "      <td>0</td>\n",
       "      <td>0</td>\n",
       "      <td>...</td>\n",
       "      <td>0</td>\n",
       "      <td>0</td>\n",
       "      <td>0</td>\n",
       "      <td>0</td>\n",
       "      <td>0</td>\n",
       "      <td>0</td>\n",
       "      <td>0</td>\n",
       "      <td>0</td>\n",
       "      <td>0</td>\n",
       "      <td>0</td>\n",
       "    </tr>\n",
       "  </tbody>\n",
       "</table>\n",
       "<p>1 rows × 380 columns</p>\n",
       "</div>"
      ],
      "text/plain": [
       "  SOME ME. FILLER WE HAS FUCKING WHY BEING ANY MORE  ... WEIRD WHAT'S LONGER  \\\n",
       "a    0   0      0  0   0       0   0     0   0    0  ...     0      0      0   \n",
       "\n",
       "  OTHERS THANK SUPPOSED HEAR FRIENDS. MOTHER LOVED  \n",
       "a      0     0        0    0        0      0     0  \n",
       "\n",
       "[1 rows x 380 columns]"
      ]
     },
     "execution_count": 114,
     "metadata": {},
     "output_type": "execute_result"
    }
   ],
   "source": [
    "df"
   ]
  },
  {
   "cell_type": "code",
   "execution_count": 115,
   "metadata": {},
   "outputs": [],
   "source": [
    "import pickle\n",
    "loaded_model = pickle.load(open(filename, 'rb'))"
   ]
  },
  {
   "cell_type": "code",
   "execution_count": 106,
   "metadata": {},
   "outputs": [
    {
     "data": {
      "text/plain": [
       "RandomForestClassifier(n_jobs=-1, random_state=100)"
      ]
     },
     "execution_count": 106,
     "metadata": {},
     "output_type": "execute_result"
    }
   ],
   "source": [
    "loaded_model.fit(X_train, y_train)"
   ]
  },
  {
   "cell_type": "code",
   "execution_count": 116,
   "metadata": {},
   "outputs": [],
   "source": [
    "length = len(tweet)\n",
    "df['Length'] = length"
   ]
  },
  {
   "cell_type": "code",
   "execution_count": 117,
   "metadata": {},
   "outputs": [
    {
     "data": {
      "text/plain": [
       "array([0], dtype=int64)"
      ]
     },
     "execution_count": 117,
     "metadata": {},
     "output_type": "execute_result"
    }
   ],
   "source": [
    "loaded_model.predict(df)"
   ]
  },
  {
   "cell_type": "code",
   "execution_count": 109,
   "metadata": {},
   "outputs": [
    {
     "name": "stdout",
     "output_type": "stream",
     "text": [
      "He is doing good!!\n"
     ]
    }
   ],
   "source": [
    "if(loaded_model.predict(df)==1):\n",
    "    print(\"Suicidal\")\n",
    "else:\n",
    "    print(\"He is doing good!!\")"
   ]
  },
  {
   "cell_type": "code",
   "execution_count": 110,
   "metadata": {},
   "outputs": [
    {
     "name": "stdout",
     "output_type": "stream",
     "text": [
      "['SOME', 'ME.', 'FILLER', 'WE', 'HAS', 'FUCKING', 'WHY', 'BEING', 'ANY', 'MORE', 'MUCH', 'IM', 'IT.', 'MAKE', 'NEED', 'THERE', 'HELP', 'YOUR', 'SOMEONE', 'GOT', 'THEM', 'THEN', 'KILL', 'GOOD', 'BY', 'FRIENDS', 'SEE', 'DAY', 'ANYONE', 'COULD', 'TOO', 'STILL', 'TALK', 'HATE', 'IT’S', 'THINGS', 'END', 'EVERY', 'SOMETHING', 'ALWAYS', 'YEARS', 'WAY', 'OTHER', 'SHOULD', 'THAN', 'NOTHING', 'LIVE', 'HERE', 'OVER', 'ANYTHING', 'LOVE', 'LAST', 'SAY', 'TAKE', 'EVERYTHING', 'BACK', 'EVER', 'RIGHT', 'DONT', 'AFTER', 'EVERYONE', 'SCHOOL', 'SUICIDE', 'I’VE', 'INTO', 'WHERE', 'CAN’T', 'TELL', 'KEEP', 'GETTING', 'FAMILY', 'HIM', 'ANYMORE.', 'OFF', 'THING', 'SHIT', 'FUCK', 'VERY', 'DOING', 'SINCE', 'BETTER', 'THROUGH', 'ME,', 'DIE', 'BAD', 'THOUGHT', 'YEAR', 'THEIR', 'FEELING', 'MADE', 'FIND', 'TRIED', 'FRIEND', 'ITS', 'TRY', 'WISH', 'CARE', 'DID', 'TOLD', 'FEW', 'SAID', 'PARENTS', 'GIVE', 'TRYING', 'ALSO', 'WANNA', '\\n\\nI', \"I'LL\", 'WERE', 'BEFORE', 'GONNA', 'LIFE.', 'AROUND', 'PLEASE', 'PERSON', 'TIRED', 'FIRST', 'HIS', 'MYSELF.', 'HAVING', 'STOP', 'POINT', 'LONG', 'WORK', 'BEST', 'WHICH', 'POST', 'MOST', 'THINKING', 'ACTUALLY', 'MANY', 'SUICIDAL', 'DOWN', 'WANTED', 'ELSE', 'HAPPY', 'MAYBE', 'WITHOUT', 'LOT', 'THESE', 'REASON', 'WHILE', 'SURE', 'MAKES', 'HARD', \"DIDN'T\", 'IT,', 'HOPE', 'DONE', 'DOES', 'GIRL', 'PROBABLY', 'PAIN', '2', 'MOM', \"DOESN'T\", 'ENOUGH', 'SAME', 'NEW', 'GUYS', 'NOW.', 'LIVING', 'THOUGHTS', 'LET', 'AWAY', 'MIGHT', 'STARTED', 'CANT', 'LOOK', 'UNTIL', 'PRETTY', 'PUT', 'LITTLE', 'TODAY', 'COME', 'DAYS', 'LOST', 'LEFT', 'WORLD', \"THAT'S\", 'OLD', 'FELT', 'ABLE', 'ㅤ', 'TWO', 'ANOTHER', 'FEELS', 'DEPRESSION', 'OWN', 'JOB', 'SCARED', 'THIS.', 'THOSE', 'ALREADY', 'PAST', 'WENT', 'OUR', 'ALMOST', 'HURT', 'TALKING', 'MONTHS', 'WELL', 'FINALLY', \"WON'T\", 'MAKING', 'ALONE', 'AGAIN', 'LEAVE', 'NEXT', 'ASK', '3', 'SLEEP', 'DO.', 'SEEMS', 'KILLING', 'GUESS', 'AGO', 'MENTAL', 'ANYMORE', 'LOOKING', 'DEPRESSED', 'FOUND', 'USED', 'SORRY', 'TIMES', 'TIME.', 'DIE.', \"THERE'S\", 'SELF', 'US', 'DAD', 'SAD', 'START', 'HOME', 'LITERALLY', 'NIGHT', 'WORSE', 'SUCH', 'SAYING', 'WHOLE', 'THOUGH', 'LIFE,', 'CLOSE', 'WANTS', 'I’LL', 'IDK', 'NOBODY', \"I'D\", 'CALL', 'UP.', 'MIND', 'OUT.', 'MATTER', 'REAL', 'LEAST', 'CAUSE', 'THEM.', 'HIGH', 'ONCE', 'NOW,', \"ISN'T\", 'GETS', '-', 'HOURS', 'THAT.', 'KIND', 'AGAIN.', 'WRONG', 'UNDERSTAND', 'KINDA', 'DEATH', 'STAY', 'SICK', 'PLACE', 'WORTH', 'MYSELF,', \"HAVEN'T\", 'HEAD', 'WEEK', 'STUFF', 'REDDIT', 'MEAN', 'TAKING', 'MONEY', 'GUY', 'PLAY', 'STUPID', 'ASKED', 'USE', 'TOOK', 'DIDN’T', 'SOMETIMES', 'BELIEVE', 'MAY', 'PART', 'WAKE', 'ANXIETY', 'U', \"YOU'RE\", 'ALL.', 'GREAT', 'HONESTLY', 'THAT’S', 'DEAL', 'GIRLFRIEND', 'DAY.', 'SEEM', 'CALLED', 'IDEA', 'EACH', 'SOCIAL', 'BIT', 'HELP.', 'TO.', 'NICE', 'YET', 'FRIENDS,', 'CAME', 'TELLING', 'HERE.', 'FUCKED', 'BIG', 'DOESN’T', 'REMEMBER', 'SAYS', 'CHANGE', '5', 'READ', 'DIFFERENT', 'DEAD', 'COLLEGE', 'DESERVE', 'AFRAID', 'GIRLS', 'DECIDED', 'THIS,', 'COMPLETELY', 'IVE', 'GONE', 'GOD', 'HER.', 'RECENTLY', 'SINGLE', 'CLASS', 'RELATIONSHIP', '\\nI', 'HOUSE', 'BETTER.', 'CUT', 'BOTH', 'ANYTHING.', 'COUPLE', 'WEEKS', '4', 'ALIVE', 'ONLINE', 'POSTING', 'EITHER', 'BODY', 'ADVICE', \"SHE'S\", 'BECOME', 'CONSTANTLY', 'FUN', 'FACT', 'COMING', 'MISS', 'LESS', ',', 'HAPPENED', 'WEIRD', \"WHAT'S\", 'LONGER', 'OTHERS', 'THANK', 'SUPPOSED', 'HEAR', 'FRIENDS.', 'MOTHER', 'LOVED']\n"
     ]
    }
   ],
   "source": [
    "print(Final_Words)"
   ]
  },
  {
   "cell_type": "code",
   "execution_count": null,
   "metadata": {},
   "outputs": [],
   "source": []
  }
 ],
 "metadata": {
  "kernelspec": {
   "display_name": "Python 3",
   "language": "python",
   "name": "python3"
  },
  "language_info": {
   "codemirror_mode": {
    "name": "ipython",
    "version": 3
   },
   "file_extension": ".py",
   "mimetype": "text/x-python",
   "name": "python",
   "nbconvert_exporter": "python",
   "pygments_lexer": "ipython3",
   "version": "3.8.3"
  },
  "papermill": {
   "default_parameters": {},
   "duration": 925.658284,
   "end_time": "2022-05-20T18:35:52.616484",
   "environment_variables": {},
   "exception": null,
   "input_path": "__notebook__.ipynb",
   "output_path": "__notebook__.ipynb",
   "parameters": {},
   "start_time": "2022-05-20T18:20:26.958200",
   "version": "2.3.3"
  }
 },
 "nbformat": 4,
 "nbformat_minor": 5
}
